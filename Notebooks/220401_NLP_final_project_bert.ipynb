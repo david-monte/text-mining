{
  "cells": [
    {
      "cell_type": "markdown",
      "metadata": {
        "id": "03a49967"
      },
      "source": [
        "# Projeto Final da Disciplina Mineração de Textos e Web Ministrada pelo Prof. Luciano Barbosa"
      ],
      "id": "03a49967"
    },
    {
      "cell_type": "markdown",
      "metadata": {
        "id": "523da8e1"
      },
      "source": [
        "**Equipe:**\n",
        "<br>David Soares do Monte\n",
        "<br>Wanderson Rodrigues Marques\n"
      ],
      "id": "523da8e1"
    },
    {
      "cell_type": "markdown",
      "metadata": {
        "id": "c0b197fe"
      },
      "source": [
        "# Etapa 1: Dataset"
      ],
      "id": "c0b197fe"
    },
    {
      "cell_type": "markdown",
      "metadata": {
        "id": "e6c1df3d"
      },
      "source": [
        "## Informações sobre o dataset\n",
        "O dataset é composto por 5000 avaliações obtidas no site da Amazon Brasil referentes ao produto \"Suporte para Notebook, OCTOO, Uptable, UP-BL, Preto\" (https://www.amazon.com.br/OCTOO-UP-BL-Suporte-Uptable-Preto/dp/B07BTC67VS/ref=zg-bs_furniture_1/144-8354270-3806822)."
      ],
      "id": "e6c1df3d"
    },
    {
      "cell_type": "markdown",
      "metadata": {
        "id": "92965f2d"
      },
      "source": [
        "## Importação das Bibliotecas Necessárias"
      ],
      "id": "92965f2d"
    },
    {
      "cell_type": "code",
      "execution_count": null,
      "metadata": {
        "id": "8557a4d6"
      },
      "outputs": [],
      "source": [
        "import pandas as pd\n",
        "import numpy as np\n",
        "import datetime as dt\n",
        "import seaborn as sn\n",
        "import math\n",
        "import os\n",
        "import pickle\n",
        "from dataclasses import dataclass\n",
        "import matplotlib.pyplot as plt\n",
        "import numpy as np\n",
        "import pandas as pd\n",
        "import plotly.express as px\n",
        "import torch\n",
        "import torch.nn.functional as F\n",
        "from torch.utils.data import DataLoader\n",
        "from sklearn import metrics\n",
        "from sklearn.model_selection import train_test_split\n",
        "from torch.nn.utils.rnn import pad_sequence\n",
        "from torch.utils.data.dataset import Dataset\n",
        "from tqdm import tqdm\n",
        "from tqdm.notebook import tqdm as tqdm_notebook"
      ],
      "id": "8557a4d6"
    },
    {
      "cell_type": "markdown",
      "metadata": {
        "id": "6XYxTt7Wht1H"
      },
      "source": [
        "## Instalação de bibliotecas"
      ],
      "id": "6XYxTt7Wht1H"
    },
    {
      "cell_type": "code",
      "execution_count": null,
      "metadata": {
        "colab": {
          "base_uri": "https://localhost:8080/"
        },
        "id": "HX4h7ggghrMn",
        "outputId": "96d0d2ee-b970-44ff-d65e-657511a9106d"
      },
      "outputs": [
        {
          "output_type": "stream",
          "name": "stdout",
          "text": [
            "Requirement already satisfied: transformers in /usr/local/lib/python3.7/dist-packages (4.17.0)\n",
            "Requirement already satisfied: requests in /usr/local/lib/python3.7/dist-packages (from transformers) (2.23.0)\n",
            "Requirement already satisfied: pyyaml>=5.1 in /usr/local/lib/python3.7/dist-packages (from transformers) (6.0)\n",
            "Requirement already satisfied: packaging>=20.0 in /usr/local/lib/python3.7/dist-packages (from transformers) (21.3)\n",
            "Requirement already satisfied: importlib-metadata in /usr/local/lib/python3.7/dist-packages (from transformers) (4.11.3)\n",
            "Requirement already satisfied: filelock in /usr/local/lib/python3.7/dist-packages (from transformers) (3.6.0)\n",
            "Requirement already satisfied: numpy>=1.17 in /usr/local/lib/python3.7/dist-packages (from transformers) (1.21.5)\n",
            "Requirement already satisfied: sacremoses in /usr/local/lib/python3.7/dist-packages (from transformers) (0.0.49)\n",
            "Requirement already satisfied: tokenizers!=0.11.3,>=0.11.1 in /usr/local/lib/python3.7/dist-packages (from transformers) (0.11.6)\n",
            "Requirement already satisfied: huggingface-hub<1.0,>=0.1.0 in /usr/local/lib/python3.7/dist-packages (from transformers) (0.4.0)\n",
            "Requirement already satisfied: tqdm>=4.27 in /usr/local/lib/python3.7/dist-packages (from transformers) (4.63.0)\n",
            "Requirement already satisfied: regex!=2019.12.17 in /usr/local/lib/python3.7/dist-packages (from transformers) (2019.12.20)\n",
            "Requirement already satisfied: typing-extensions>=3.7.4.3 in /usr/local/lib/python3.7/dist-packages (from huggingface-hub<1.0,>=0.1.0->transformers) (3.10.0.2)\n",
            "Requirement already satisfied: pyparsing!=3.0.5,>=2.0.2 in /usr/local/lib/python3.7/dist-packages (from packaging>=20.0->transformers) (3.0.7)\n",
            "Requirement already satisfied: zipp>=0.5 in /usr/local/lib/python3.7/dist-packages (from importlib-metadata->transformers) (3.7.0)\n",
            "Requirement already satisfied: certifi>=2017.4.17 in /usr/local/lib/python3.7/dist-packages (from requests->transformers) (2021.10.8)\n",
            "Requirement already satisfied: chardet<4,>=3.0.2 in /usr/local/lib/python3.7/dist-packages (from requests->transformers) (3.0.4)\n",
            "Requirement already satisfied: urllib3!=1.25.0,!=1.25.1,<1.26,>=1.21.1 in /usr/local/lib/python3.7/dist-packages (from requests->transformers) (1.24.3)\n",
            "Requirement already satisfied: idna<3,>=2.5 in /usr/local/lib/python3.7/dist-packages (from requests->transformers) (2.10)\n",
            "Requirement already satisfied: click in /usr/local/lib/python3.7/dist-packages (from sacremoses->transformers) (7.1.2)\n",
            "Requirement already satisfied: joblib in /usr/local/lib/python3.7/dist-packages (from sacremoses->transformers) (1.1.0)\n",
            "Requirement already satisfied: six in /usr/local/lib/python3.7/dist-packages (from sacremoses->transformers) (1.15.0)\n"
          ]
        }
      ],
      "source": [
        "!pip install transformers\n",
        "from transformers import AdamW, BertForSequenceClassification, BertTokenizer, DataCollatorWithPadding"
      ],
      "id": "HX4h7ggghrMn"
    },
    {
      "cell_type": "code",
      "execution_count": null,
      "metadata": {
        "colab": {
          "base_uri": "https://localhost:8080/"
        },
        "id": "5aUTBXnTLkUI",
        "outputId": "f25e5df3-7556-407d-f650-85b247d393ad"
      },
      "outputs": [
        {
          "output_type": "stream",
          "name": "stdout",
          "text": [
            "Drive already mounted at /content/drive; to attempt to forcibly remount, call drive.mount(\"/content/drive\", force_remount=True).\n"
          ]
        }
      ],
      "source": [
        "from google.colab import drive\n",
        "drive.mount('/content/drive')"
      ],
      "id": "5aUTBXnTLkUI"
    },
    {
      "cell_type": "markdown",
      "metadata": {
        "id": "ffc33a16"
      },
      "source": [
        "## Importação e Pré-processamento do Dataset"
      ],
      "id": "ffc33a16"
    },
    {
      "cell_type": "code",
      "execution_count": null,
      "metadata": {
        "id": "97ecb248"
      },
      "outputs": [],
      "source": [
        "# Função para o 'date_parser' para converter a data no momento de leitura do dataset através do 'pd.read_csv'\n",
        "\n",
        "def date_converter(date):\n",
        "    month = 0\n",
        "    month_list = ['janeiro', 'fevereiro', 'março', 'abril', 'maio', 'junho', 'julho', \n",
        "                  'agosto', 'setembro', 'outubro', 'novembro', 'dezembro']\n",
        "    \n",
        "    date_sep = date.split(' ') # Ex.: '24 de setembro de 2019' => ['24', 'de', 'setembro', 'de', '2019']\n",
        "    \n",
        "    for i, m in enumerate(month_list): # Verifica a terceira posição da lista para fazer a conversão do mês\n",
        "        if date_sep[2] == m:\n",
        "            month = i + 1\n",
        "            break\n",
        "    \n",
        "    year = int(date_sep[4]) # Última posição da lista 'date_sep'\n",
        "    day = int(date_sep[0])  # Primeira posição da lista 'date_sep'\n",
        "            \n",
        "    date_conv = dt.date(year=year, month=month, day=day) # Compõe a data que será retornada\n",
        "    \n",
        "    return date_conv"
      ],
      "id": "97ecb248"
    },
    {
      "cell_type": "code",
      "execution_count": null,
      "metadata": {
        "id": "e41398ae"
      },
      "outputs": [],
      "source": [
        "# Importa o dataset\n",
        "\n",
        "df1 = pd.read_csv('/content/drive/MyDrive/Colab Notebooks/NLP Projeto Final/av_positivo_projeto_NLP_4560.csv', decimal=',', parse_dates=[2], \n",
        "                 date_parser=date_converter, usecols=['reviews', 'star', 'date'])\n",
        "df2 = pd.read_csv('/content/drive/MyDrive/Colab Notebooks/NLP Projeto Final/av_critico_projeto_NLP_1330.csv', decimal=',', parse_dates=[2], \n",
        "                 date_parser=date_converter, usecols=['reviews', 'star', 'date'])\n",
        "df = pd.concat([df1, df2])\n",
        "df.reset_index(drop=True, inplace=True)"
      ],
      "id": "e41398ae"
    },
    {
      "cell_type": "code",
      "execution_count": null,
      "metadata": {
        "colab": {
          "base_uri": "https://localhost:8080/",
          "height": 206
        },
        "id": "dad7efc8",
        "outputId": "9a3d9bc6-241a-4ad2-9a28-0bc5aa2ffb73"
      },
      "outputs": [
        {
          "output_type": "execute_result",
          "data": {
            "text/plain": [
              "                                                reviews  star       date\n",
              "3955                              Recomendo o produto !   4.0 2020-10-20\n",
              "4801  O PRODUTO NÃO PRESTA! TORTO, NÃO TEM ERGONOMIA...   1.0 2021-12-29\n",
              "4288  Ótimo produto! Pra quem usa notebook no dia a ...   5.0 2020-12-12\n",
              "144   Pelo preço é um excelente investimento. Já uti...   5.0 2020-07-15\n",
              "4575  Ele não possuí uma regulação de angulo satisfa...   1.0 2020-08-14"
            ],
            "text/html": [
              "\n",
              "  <div id=\"df-eb73375e-7aa8-4729-a20a-fb7d162f8b20\">\n",
              "    <div class=\"colab-df-container\">\n",
              "      <div>\n",
              "<style scoped>\n",
              "    .dataframe tbody tr th:only-of-type {\n",
              "        vertical-align: middle;\n",
              "    }\n",
              "\n",
              "    .dataframe tbody tr th {\n",
              "        vertical-align: top;\n",
              "    }\n",
              "\n",
              "    .dataframe thead th {\n",
              "        text-align: right;\n",
              "    }\n",
              "</style>\n",
              "<table border=\"1\" class=\"dataframe\">\n",
              "  <thead>\n",
              "    <tr style=\"text-align: right;\">\n",
              "      <th></th>\n",
              "      <th>reviews</th>\n",
              "      <th>star</th>\n",
              "      <th>date</th>\n",
              "    </tr>\n",
              "  </thead>\n",
              "  <tbody>\n",
              "    <tr>\n",
              "      <th>3955</th>\n",
              "      <td>Recomendo o produto !</td>\n",
              "      <td>4.0</td>\n",
              "      <td>2020-10-20</td>\n",
              "    </tr>\n",
              "    <tr>\n",
              "      <th>4801</th>\n",
              "      <td>O PRODUTO NÃO PRESTA! TORTO, NÃO TEM ERGONOMIA...</td>\n",
              "      <td>1.0</td>\n",
              "      <td>2021-12-29</td>\n",
              "    </tr>\n",
              "    <tr>\n",
              "      <th>4288</th>\n",
              "      <td>Ótimo produto! Pra quem usa notebook no dia a ...</td>\n",
              "      <td>5.0</td>\n",
              "      <td>2020-12-12</td>\n",
              "    </tr>\n",
              "    <tr>\n",
              "      <th>144</th>\n",
              "      <td>Pelo preço é um excelente investimento. Já uti...</td>\n",
              "      <td>5.0</td>\n",
              "      <td>2020-07-15</td>\n",
              "    </tr>\n",
              "    <tr>\n",
              "      <th>4575</th>\n",
              "      <td>Ele não possuí uma regulação de angulo satisfa...</td>\n",
              "      <td>1.0</td>\n",
              "      <td>2020-08-14</td>\n",
              "    </tr>\n",
              "  </tbody>\n",
              "</table>\n",
              "</div>\n",
              "      <button class=\"colab-df-convert\" onclick=\"convertToInteractive('df-eb73375e-7aa8-4729-a20a-fb7d162f8b20')\"\n",
              "              title=\"Convert this dataframe to an interactive table.\"\n",
              "              style=\"display:none;\">\n",
              "        \n",
              "  <svg xmlns=\"http://www.w3.org/2000/svg\" height=\"24px\"viewBox=\"0 0 24 24\"\n",
              "       width=\"24px\">\n",
              "    <path d=\"M0 0h24v24H0V0z\" fill=\"none\"/>\n",
              "    <path d=\"M18.56 5.44l.94 2.06.94-2.06 2.06-.94-2.06-.94-.94-2.06-.94 2.06-2.06.94zm-11 1L8.5 8.5l.94-2.06 2.06-.94-2.06-.94L8.5 2.5l-.94 2.06-2.06.94zm10 10l.94 2.06.94-2.06 2.06-.94-2.06-.94-.94-2.06-.94 2.06-2.06.94z\"/><path d=\"M17.41 7.96l-1.37-1.37c-.4-.4-.92-.59-1.43-.59-.52 0-1.04.2-1.43.59L10.3 9.45l-7.72 7.72c-.78.78-.78 2.05 0 2.83L4 21.41c.39.39.9.59 1.41.59.51 0 1.02-.2 1.41-.59l7.78-7.78 2.81-2.81c.8-.78.8-2.07 0-2.86zM5.41 20L4 18.59l7.72-7.72 1.47 1.35L5.41 20z\"/>\n",
              "  </svg>\n",
              "      </button>\n",
              "      \n",
              "  <style>\n",
              "    .colab-df-container {\n",
              "      display:flex;\n",
              "      flex-wrap:wrap;\n",
              "      gap: 12px;\n",
              "    }\n",
              "\n",
              "    .colab-df-convert {\n",
              "      background-color: #E8F0FE;\n",
              "      border: none;\n",
              "      border-radius: 50%;\n",
              "      cursor: pointer;\n",
              "      display: none;\n",
              "      fill: #1967D2;\n",
              "      height: 32px;\n",
              "      padding: 0 0 0 0;\n",
              "      width: 32px;\n",
              "    }\n",
              "\n",
              "    .colab-df-convert:hover {\n",
              "      background-color: #E2EBFA;\n",
              "      box-shadow: 0px 1px 2px rgba(60, 64, 67, 0.3), 0px 1px 3px 1px rgba(60, 64, 67, 0.15);\n",
              "      fill: #174EA6;\n",
              "    }\n",
              "\n",
              "    [theme=dark] .colab-df-convert {\n",
              "      background-color: #3B4455;\n",
              "      fill: #D2E3FC;\n",
              "    }\n",
              "\n",
              "    [theme=dark] .colab-df-convert:hover {\n",
              "      background-color: #434B5C;\n",
              "      box-shadow: 0px 1px 3px 1px rgba(0, 0, 0, 0.15);\n",
              "      filter: drop-shadow(0px 1px 2px rgba(0, 0, 0, 0.3));\n",
              "      fill: #FFFFFF;\n",
              "    }\n",
              "  </style>\n",
              "\n",
              "      <script>\n",
              "        const buttonEl =\n",
              "          document.querySelector('#df-eb73375e-7aa8-4729-a20a-fb7d162f8b20 button.colab-df-convert');\n",
              "        buttonEl.style.display =\n",
              "          google.colab.kernel.accessAllowed ? 'block' : 'none';\n",
              "\n",
              "        async function convertToInteractive(key) {\n",
              "          const element = document.querySelector('#df-eb73375e-7aa8-4729-a20a-fb7d162f8b20');\n",
              "          const dataTable =\n",
              "            await google.colab.kernel.invokeFunction('convertToInteractive',\n",
              "                                                     [key], {});\n",
              "          if (!dataTable) return;\n",
              "\n",
              "          const docLinkHtml = 'Like what you see? Visit the ' +\n",
              "            '<a target=\"_blank\" href=https://colab.research.google.com/notebooks/data_table.ipynb>data table notebook</a>'\n",
              "            + ' to learn more about interactive tables.';\n",
              "          element.innerHTML = '';\n",
              "          dataTable['output_type'] = 'display_data';\n",
              "          await google.colab.output.renderOutput(dataTable, element);\n",
              "          const docLink = document.createElement('div');\n",
              "          docLink.innerHTML = docLinkHtml;\n",
              "          element.appendChild(docLink);\n",
              "        }\n",
              "      </script>\n",
              "    </div>\n",
              "  </div>\n",
              "  "
            ]
          },
          "metadata": {},
          "execution_count": 40
        }
      ],
      "source": [
        "# Imprime 5 amostras do dataset\n",
        "\n",
        "df.sample(5)"
      ],
      "id": "dad7efc8"
    },
    {
      "cell_type": "code",
      "execution_count": null,
      "metadata": {
        "colab": {
          "base_uri": "https://localhost:8080/"
        },
        "id": "363b29c6",
        "outputId": "3115e8b2-4039-48fd-c857-d0891a110854"
      },
      "outputs": [
        {
          "output_type": "stream",
          "name": "stdout",
          "text": [
            "Shape do dataset: (5890, 3)\n"
          ]
        }
      ],
      "source": [
        "# Imprime formato do dataset\n",
        "\n",
        "print('Shape do dataset:', df.shape)"
      ],
      "id": "363b29c6"
    },
    {
      "cell_type": "markdown",
      "source": [
        "*   Deste ponto em diante será utilizado o dataset 'df_reviews'\n",
        "\n"
      ],
      "metadata": {
        "id": "e8ah1QBZYmNt"
      },
      "id": "e8ah1QBZYmNt"
    },
    {
      "cell_type": "code",
      "execution_count": null,
      "metadata": {
        "id": "7e3a6041"
      },
      "outputs": [],
      "source": [
        "# Ordena o dataset pela data, cria uma cópia (df_reviews) e faz o reset dos índices\n",
        "\n",
        "df_reviews = df.sort_values(by=['date']).copy()\n",
        "df_reviews.reset_index(drop=True, inplace=True)\n",
        "\n",
        "# Adiciona a coluna 'sentiment' baseado no critério: positivo se star > 3 e negativo caso contrário\n",
        "\n",
        "df_reviews['sentiment'] = df_reviews['star'].apply(lambda v: 'positive' if v > 3 else 'negative')\n",
        "\n",
        "# Reordena as colunas do dataset\n",
        "\n",
        "df_reviews = df_reviews[['date', 'reviews', 'star', 'sentiment']]\n",
        "\n",
        "# Redefine os tipos dos dados\n",
        "\n",
        "df_reviews['reviews'] = df_reviews['reviews'].astype('category')\n",
        "df_reviews['star'] = df_reviews['star'].astype('int8')\n",
        "df_reviews['star'] = df_reviews['star'].astype('category')\n",
        "df_reviews['sentiment'] = df_reviews['sentiment'].astype('category')"
      ],
      "id": "7e3a6041"
    },
    {
      "cell_type": "code",
      "execution_count": null,
      "metadata": {
        "colab": {
          "base_uri": "https://localhost:8080/",
          "height": 206
        },
        "id": "527e9b31",
        "outputId": "fff625ae-fbdd-43c4-8055-c25454ec4995"
      },
      "outputs": [
        {
          "output_type": "execute_result",
          "data": {
            "text/plain": [
              "        date                                            reviews star sentiment\n",
              "0 2019-04-07                 Leve, simples, ocupa pouco espaço.    5  positive\n",
              "1 2019-09-24  Produto de boa qualidade, tanto pela aparência...    4  positive\n",
              "2 2019-10-10  Duro, pequeno e não tão resistente. Já desinca...    2  negative\n",
              "3 2019-10-31  Fácil de montar e desmontar, pode ser posicion...    5  positive\n",
              "4 2019-12-02                         Prático, leve e resistente    5  positive"
            ],
            "text/html": [
              "\n",
              "  <div id=\"df-ed095f34-ee0c-4648-8607-7068acbab9a9\">\n",
              "    <div class=\"colab-df-container\">\n",
              "      <div>\n",
              "<style scoped>\n",
              "    .dataframe tbody tr th:only-of-type {\n",
              "        vertical-align: middle;\n",
              "    }\n",
              "\n",
              "    .dataframe tbody tr th {\n",
              "        vertical-align: top;\n",
              "    }\n",
              "\n",
              "    .dataframe thead th {\n",
              "        text-align: right;\n",
              "    }\n",
              "</style>\n",
              "<table border=\"1\" class=\"dataframe\">\n",
              "  <thead>\n",
              "    <tr style=\"text-align: right;\">\n",
              "      <th></th>\n",
              "      <th>date</th>\n",
              "      <th>reviews</th>\n",
              "      <th>star</th>\n",
              "      <th>sentiment</th>\n",
              "    </tr>\n",
              "  </thead>\n",
              "  <tbody>\n",
              "    <tr>\n",
              "      <th>0</th>\n",
              "      <td>2019-04-07</td>\n",
              "      <td>Leve, simples, ocupa pouco espaço.</td>\n",
              "      <td>5</td>\n",
              "      <td>positive</td>\n",
              "    </tr>\n",
              "    <tr>\n",
              "      <th>1</th>\n",
              "      <td>2019-09-24</td>\n",
              "      <td>Produto de boa qualidade, tanto pela aparência...</td>\n",
              "      <td>4</td>\n",
              "      <td>positive</td>\n",
              "    </tr>\n",
              "    <tr>\n",
              "      <th>2</th>\n",
              "      <td>2019-10-10</td>\n",
              "      <td>Duro, pequeno e não tão resistente. Já desinca...</td>\n",
              "      <td>2</td>\n",
              "      <td>negative</td>\n",
              "    </tr>\n",
              "    <tr>\n",
              "      <th>3</th>\n",
              "      <td>2019-10-31</td>\n",
              "      <td>Fácil de montar e desmontar, pode ser posicion...</td>\n",
              "      <td>5</td>\n",
              "      <td>positive</td>\n",
              "    </tr>\n",
              "    <tr>\n",
              "      <th>4</th>\n",
              "      <td>2019-12-02</td>\n",
              "      <td>Prático, leve e resistente</td>\n",
              "      <td>5</td>\n",
              "      <td>positive</td>\n",
              "    </tr>\n",
              "  </tbody>\n",
              "</table>\n",
              "</div>\n",
              "      <button class=\"colab-df-convert\" onclick=\"convertToInteractive('df-ed095f34-ee0c-4648-8607-7068acbab9a9')\"\n",
              "              title=\"Convert this dataframe to an interactive table.\"\n",
              "              style=\"display:none;\">\n",
              "        \n",
              "  <svg xmlns=\"http://www.w3.org/2000/svg\" height=\"24px\"viewBox=\"0 0 24 24\"\n",
              "       width=\"24px\">\n",
              "    <path d=\"M0 0h24v24H0V0z\" fill=\"none\"/>\n",
              "    <path d=\"M18.56 5.44l.94 2.06.94-2.06 2.06-.94-2.06-.94-.94-2.06-.94 2.06-2.06.94zm-11 1L8.5 8.5l.94-2.06 2.06-.94-2.06-.94L8.5 2.5l-.94 2.06-2.06.94zm10 10l.94 2.06.94-2.06 2.06-.94-2.06-.94-.94-2.06-.94 2.06-2.06.94z\"/><path d=\"M17.41 7.96l-1.37-1.37c-.4-.4-.92-.59-1.43-.59-.52 0-1.04.2-1.43.59L10.3 9.45l-7.72 7.72c-.78.78-.78 2.05 0 2.83L4 21.41c.39.39.9.59 1.41.59.51 0 1.02-.2 1.41-.59l7.78-7.78 2.81-2.81c.8-.78.8-2.07 0-2.86zM5.41 20L4 18.59l7.72-7.72 1.47 1.35L5.41 20z\"/>\n",
              "  </svg>\n",
              "      </button>\n",
              "      \n",
              "  <style>\n",
              "    .colab-df-container {\n",
              "      display:flex;\n",
              "      flex-wrap:wrap;\n",
              "      gap: 12px;\n",
              "    }\n",
              "\n",
              "    .colab-df-convert {\n",
              "      background-color: #E8F0FE;\n",
              "      border: none;\n",
              "      border-radius: 50%;\n",
              "      cursor: pointer;\n",
              "      display: none;\n",
              "      fill: #1967D2;\n",
              "      height: 32px;\n",
              "      padding: 0 0 0 0;\n",
              "      width: 32px;\n",
              "    }\n",
              "\n",
              "    .colab-df-convert:hover {\n",
              "      background-color: #E2EBFA;\n",
              "      box-shadow: 0px 1px 2px rgba(60, 64, 67, 0.3), 0px 1px 3px 1px rgba(60, 64, 67, 0.15);\n",
              "      fill: #174EA6;\n",
              "    }\n",
              "\n",
              "    [theme=dark] .colab-df-convert {\n",
              "      background-color: #3B4455;\n",
              "      fill: #D2E3FC;\n",
              "    }\n",
              "\n",
              "    [theme=dark] .colab-df-convert:hover {\n",
              "      background-color: #434B5C;\n",
              "      box-shadow: 0px 1px 3px 1px rgba(0, 0, 0, 0.15);\n",
              "      filter: drop-shadow(0px 1px 2px rgba(0, 0, 0, 0.3));\n",
              "      fill: #FFFFFF;\n",
              "    }\n",
              "  </style>\n",
              "\n",
              "      <script>\n",
              "        const buttonEl =\n",
              "          document.querySelector('#df-ed095f34-ee0c-4648-8607-7068acbab9a9 button.colab-df-convert');\n",
              "        buttonEl.style.display =\n",
              "          google.colab.kernel.accessAllowed ? 'block' : 'none';\n",
              "\n",
              "        async function convertToInteractive(key) {\n",
              "          const element = document.querySelector('#df-ed095f34-ee0c-4648-8607-7068acbab9a9');\n",
              "          const dataTable =\n",
              "            await google.colab.kernel.invokeFunction('convertToInteractive',\n",
              "                                                     [key], {});\n",
              "          if (!dataTable) return;\n",
              "\n",
              "          const docLinkHtml = 'Like what you see? Visit the ' +\n",
              "            '<a target=\"_blank\" href=https://colab.research.google.com/notebooks/data_table.ipynb>data table notebook</a>'\n",
              "            + ' to learn more about interactive tables.';\n",
              "          element.innerHTML = '';\n",
              "          dataTable['output_type'] = 'display_data';\n",
              "          await google.colab.output.renderOutput(dataTable, element);\n",
              "          const docLink = document.createElement('div');\n",
              "          docLink.innerHTML = docLinkHtml;\n",
              "          element.appendChild(docLink);\n",
              "        }\n",
              "      </script>\n",
              "    </div>\n",
              "  </div>\n",
              "  "
            ]
          },
          "metadata": {},
          "execution_count": 43
        }
      ],
      "source": [
        "df_reviews.head()"
      ],
      "id": "527e9b31"
    },
    {
      "cell_type": "code",
      "execution_count": null,
      "metadata": {
        "colab": {
          "base_uri": "https://localhost:8080/"
        },
        "id": "70628a6c",
        "outputId": "a92de4cd-2f6d-4325-c9cb-3314e3d1ceda"
      },
      "outputs": [
        {
          "output_type": "stream",
          "name": "stdout",
          "text": [
            "Período das reviews:  2019-04-07 a 2022-03-22\n"
          ]
        }
      ],
      "source": [
        "# Intervalo de datas no qual foram capturadas os reviews\n",
        "\n",
        "print('Período das reviews: ', df_reviews['date'].min().strftime('%Y-%m-%d'), 'a',\\\n",
        "      df_reviews['date'].max().strftime('%Y-%m-%d'))"
      ],
      "id": "70628a6c"
    },
    {
      "cell_type": "code",
      "execution_count": null,
      "metadata": {
        "colab": {
          "base_uri": "https://localhost:8080/"
        },
        "id": "xHgFXwj-cFMX",
        "outputId": "40fc596f-1ba5-45b8-d861-157fa4852a6b"
      },
      "outputs": [
        {
          "output_type": "execute_result",
          "data": {
            "text/plain": [
              "date          0\n",
              "reviews      59\n",
              "star          0\n",
              "sentiment     0\n",
              "dtype: int64"
            ]
          },
          "metadata": {},
          "execution_count": 45
        }
      ],
      "source": [
        "# Verificação de dados ausentes\n",
        "\n",
        "(df_reviews.isna().sum())"
      ],
      "id": "xHgFXwj-cFMX"
    },
    {
      "cell_type": "code",
      "execution_count": null,
      "metadata": {
        "colab": {
          "base_uri": "https://localhost:8080/"
        },
        "id": "a3a64153",
        "outputId": "507352b8-c211-4138-8bd0-b223ae75eb7e"
      },
      "outputs": [
        {
          "output_type": "execute_result",
          "data": {
            "text/plain": [
              "(5831, 4)"
            ]
          },
          "metadata": {},
          "execution_count": 46
        }
      ],
      "source": [
        "# Remove instâncias com reviews vazias\n",
        "\n",
        "df_reviews.dropna(axis=0, how='any', inplace=True, subset=['reviews'])\n",
        "df_reviews.reset_index(drop=True, inplace=True)\n",
        "df_reviews.shape"
      ],
      "id": "a3a64153"
    },
    {
      "cell_type": "code",
      "execution_count": null,
      "metadata": {
        "colab": {
          "base_uri": "https://localhost:8080/"
        },
        "id": "fd1f0368",
        "outputId": "abb3ce96-9162-4ec2-c0ff-e03cce5c57e1"
      },
      "outputs": [
        {
          "output_type": "stream",
          "name": "stdout",
          "text": [
            "<class 'pandas.core.frame.DataFrame'>\n",
            "RangeIndex: 5831 entries, 0 to 5830\n",
            "Data columns (total 4 columns):\n",
            " #   Column     Non-Null Count  Dtype         \n",
            "---  ------     --------------  -----         \n",
            " 0   date       5831 non-null   datetime64[ns]\n",
            " 1   reviews    5831 non-null   category      \n",
            " 2   star       5831 non-null   category      \n",
            " 3   sentiment  5831 non-null   category      \n",
            "dtypes: category(3), datetime64[ns](1)\n",
            "memory usage: 240.1 KB\n"
          ]
        }
      ],
      "source": [
        "df_reviews.info()"
      ],
      "id": "fd1f0368"
    },
    {
      "cell_type": "code",
      "execution_count": null,
      "metadata": {
        "colab": {
          "base_uri": "https://localhost:8080/",
          "height": 175
        },
        "id": "2300360b",
        "outputId": "b3666dba-de66-483a-db31-3d0aa3ee8f39"
      },
      "outputs": [
        {
          "output_type": "execute_result",
          "data": {
            "text/plain": [
              "          reviews  star sentiment\n",
              "count        5831  5831      5831\n",
              "unique       5413     5         2\n",
              "top     Muito bom     5  positive\n",
              "freq           64  3552      4520"
            ],
            "text/html": [
              "\n",
              "  <div id=\"df-3653c524-7354-4eb3-8f62-58825ffb2e6f\">\n",
              "    <div class=\"colab-df-container\">\n",
              "      <div>\n",
              "<style scoped>\n",
              "    .dataframe tbody tr th:only-of-type {\n",
              "        vertical-align: middle;\n",
              "    }\n",
              "\n",
              "    .dataframe tbody tr th {\n",
              "        vertical-align: top;\n",
              "    }\n",
              "\n",
              "    .dataframe thead th {\n",
              "        text-align: right;\n",
              "    }\n",
              "</style>\n",
              "<table border=\"1\" class=\"dataframe\">\n",
              "  <thead>\n",
              "    <tr style=\"text-align: right;\">\n",
              "      <th></th>\n",
              "      <th>reviews</th>\n",
              "      <th>star</th>\n",
              "      <th>sentiment</th>\n",
              "    </tr>\n",
              "  </thead>\n",
              "  <tbody>\n",
              "    <tr>\n",
              "      <th>count</th>\n",
              "      <td>5831</td>\n",
              "      <td>5831</td>\n",
              "      <td>5831</td>\n",
              "    </tr>\n",
              "    <tr>\n",
              "      <th>unique</th>\n",
              "      <td>5413</td>\n",
              "      <td>5</td>\n",
              "      <td>2</td>\n",
              "    </tr>\n",
              "    <tr>\n",
              "      <th>top</th>\n",
              "      <td>Muito bom</td>\n",
              "      <td>5</td>\n",
              "      <td>positive</td>\n",
              "    </tr>\n",
              "    <tr>\n",
              "      <th>freq</th>\n",
              "      <td>64</td>\n",
              "      <td>3552</td>\n",
              "      <td>4520</td>\n",
              "    </tr>\n",
              "  </tbody>\n",
              "</table>\n",
              "</div>\n",
              "      <button class=\"colab-df-convert\" onclick=\"convertToInteractive('df-3653c524-7354-4eb3-8f62-58825ffb2e6f')\"\n",
              "              title=\"Convert this dataframe to an interactive table.\"\n",
              "              style=\"display:none;\">\n",
              "        \n",
              "  <svg xmlns=\"http://www.w3.org/2000/svg\" height=\"24px\"viewBox=\"0 0 24 24\"\n",
              "       width=\"24px\">\n",
              "    <path d=\"M0 0h24v24H0V0z\" fill=\"none\"/>\n",
              "    <path d=\"M18.56 5.44l.94 2.06.94-2.06 2.06-.94-2.06-.94-.94-2.06-.94 2.06-2.06.94zm-11 1L8.5 8.5l.94-2.06 2.06-.94-2.06-.94L8.5 2.5l-.94 2.06-2.06.94zm10 10l.94 2.06.94-2.06 2.06-.94-2.06-.94-.94-2.06-.94 2.06-2.06.94z\"/><path d=\"M17.41 7.96l-1.37-1.37c-.4-.4-.92-.59-1.43-.59-.52 0-1.04.2-1.43.59L10.3 9.45l-7.72 7.72c-.78.78-.78 2.05 0 2.83L4 21.41c.39.39.9.59 1.41.59.51 0 1.02-.2 1.41-.59l7.78-7.78 2.81-2.81c.8-.78.8-2.07 0-2.86zM5.41 20L4 18.59l7.72-7.72 1.47 1.35L5.41 20z\"/>\n",
              "  </svg>\n",
              "      </button>\n",
              "      \n",
              "  <style>\n",
              "    .colab-df-container {\n",
              "      display:flex;\n",
              "      flex-wrap:wrap;\n",
              "      gap: 12px;\n",
              "    }\n",
              "\n",
              "    .colab-df-convert {\n",
              "      background-color: #E8F0FE;\n",
              "      border: none;\n",
              "      border-radius: 50%;\n",
              "      cursor: pointer;\n",
              "      display: none;\n",
              "      fill: #1967D2;\n",
              "      height: 32px;\n",
              "      padding: 0 0 0 0;\n",
              "      width: 32px;\n",
              "    }\n",
              "\n",
              "    .colab-df-convert:hover {\n",
              "      background-color: #E2EBFA;\n",
              "      box-shadow: 0px 1px 2px rgba(60, 64, 67, 0.3), 0px 1px 3px 1px rgba(60, 64, 67, 0.15);\n",
              "      fill: #174EA6;\n",
              "    }\n",
              "\n",
              "    [theme=dark] .colab-df-convert {\n",
              "      background-color: #3B4455;\n",
              "      fill: #D2E3FC;\n",
              "    }\n",
              "\n",
              "    [theme=dark] .colab-df-convert:hover {\n",
              "      background-color: #434B5C;\n",
              "      box-shadow: 0px 1px 3px 1px rgba(0, 0, 0, 0.15);\n",
              "      filter: drop-shadow(0px 1px 2px rgba(0, 0, 0, 0.3));\n",
              "      fill: #FFFFFF;\n",
              "    }\n",
              "  </style>\n",
              "\n",
              "      <script>\n",
              "        const buttonEl =\n",
              "          document.querySelector('#df-3653c524-7354-4eb3-8f62-58825ffb2e6f button.colab-df-convert');\n",
              "        buttonEl.style.display =\n",
              "          google.colab.kernel.accessAllowed ? 'block' : 'none';\n",
              "\n",
              "        async function convertToInteractive(key) {\n",
              "          const element = document.querySelector('#df-3653c524-7354-4eb3-8f62-58825ffb2e6f');\n",
              "          const dataTable =\n",
              "            await google.colab.kernel.invokeFunction('convertToInteractive',\n",
              "                                                     [key], {});\n",
              "          if (!dataTable) return;\n",
              "\n",
              "          const docLinkHtml = 'Like what you see? Visit the ' +\n",
              "            '<a target=\"_blank\" href=https://colab.research.google.com/notebooks/data_table.ipynb>data table notebook</a>'\n",
              "            + ' to learn more about interactive tables.';\n",
              "          element.innerHTML = '';\n",
              "          dataTable['output_type'] = 'display_data';\n",
              "          await google.colab.output.renderOutput(dataTable, element);\n",
              "          const docLink = document.createElement('div');\n",
              "          docLink.innerHTML = docLinkHtml;\n",
              "          element.appendChild(docLink);\n",
              "        }\n",
              "      </script>\n",
              "    </div>\n",
              "  </div>\n",
              "  "
            ]
          },
          "metadata": {},
          "execution_count": 48
        }
      ],
      "source": [
        "# Descrição das variáveis categóricas\n",
        "\n",
        "df_reviews.describe(include='category')"
      ],
      "id": "2300360b"
    },
    {
      "cell_type": "code",
      "execution_count": null,
      "metadata": {
        "colab": {
          "base_uri": "https://localhost:8080/",
          "height": 248
        },
        "id": "5f56a31d",
        "outputId": "877d23d8-2a96-4305-bdb1-d324e5fda6e0"
      },
      "outputs": [
        {
          "output_type": "display_data",
          "data": {
            "text/plain": [
              "<Figure size 432x288 with 1 Axes>"
            ],
            "image/png": "[encoded data removed]"
          },
          "metadata": {}
        }
      ],
      "source": [
        "# Verificação do balaceamento das classes - coluna 'sentiment'\n",
        "df_reviews['sentiment'].value_counts().plot.pie(autopct='%.2f', explode=[0.01, 0]);"
      ],
      "id": "5f56a31d"
    },
    {
      "cell_type": "markdown",
      "metadata": {
        "id": "An015OxQXYEl"
      },
      "source": [
        "Os dados estão desbalanceados"
      ],
      "id": "An015OxQXYEl"
    },
    {
      "cell_type": "markdown",
      "source": [
        "# Etapa 2: Processamento dos Dados Textuais"
      ],
      "metadata": {
        "id": "d87OY4csZnd4"
      },
      "id": "d87OY4csZnd4"
    },
    {
      "cell_type": "markdown",
      "metadata": {
        "id": "WeDtCS9gXzvb"
      },
      "source": [
        "## Fazendo Split nos dados"
      ],
      "id": "WeDtCS9gXzvb"
    },
    {
      "cell_type": "code",
      "execution_count": null,
      "metadata": {
        "colab": {
          "base_uri": "https://localhost:8080/"
        },
        "id": "jYCxA5SHXbbK",
        "outputId": "e0bb2a6a-dab2-4a8a-f7f1-b26771d6e085"
      },
      "outputs": [
        {
          "output_type": "stream",
          "name": "stdout",
          "text": [
            "Tamanho de treino: 4197\n",
            "Tamanho de validação: 1050\n",
            "Tamanho de teste: 584\n"
          ]
        }
      ],
      "source": [
        "seed = 1275\n",
        "\n",
        "train_dev, test = train_test_split(df_reviews, test_size=0.1, random_state=seed, stratify=df_reviews['sentiment'])\n",
        "train, dev = train_test_split(train_dev, test_size=0.2, random_state=seed, stratify=train_dev['sentiment'])\n",
        "\n",
        "print('Tamanho de treino:', train.shape[0])\n",
        "print('Tamanho de validação:', dev.shape[0])\n",
        "print('Tamanho de teste:', test.shape[0])"
      ],
      "id": "jYCxA5SHXbbK"
    },
    {
      "cell_type": "markdown",
      "source": [
        "Convertendo a classe para numérico"
      ],
      "metadata": {
        "id": "bHS8E6eTZ51W"
      },
      "id": "bHS8E6eTZ51W"
    },
    {
      "cell_type": "code",
      "source": [
        "y_test = test['sentiment'].apply(lambda x: 1 if x == 'positive' else 0)"
      ],
      "metadata": {
        "id": "6WOXL3w9oSoT"
      },
      "id": "6WOXL3w9oSoT",
      "execution_count": null,
      "outputs": []
    },
    {
      "cell_type": "markdown",
      "metadata": {
        "id": "uw8mHlCGYRC9"
      },
      "source": [
        "## C4: BERT\n",
        "Classe criada para tokenizar os exemplos e fornecer os pares de inputs e labels para o modelo"
      ],
      "id": "uw8mHlCGYRC9"
    },
    {
      "cell_type": "code",
      "execution_count": null,
      "metadata": {
        "id": "rGchnlVXYiBA"
      },
      "outputs": [],
      "source": [
        "class defClass(Dataset):  \n",
        "    def __init__(self, tokenizer, X, y):\n",
        "        X = list(X)\n",
        "        y = list(y)\n",
        "        tokenized_data = tokenizer(X, truncation=True, max_length=512)\n",
        "        samples = [\n",
        "            {\n",
        "                **{key: tokenized_data[key][i] for key in tokenized_data},\n",
        "                'labels': y[i]\n",
        "            }\n",
        "             \n",
        "            for i in range(len(X))\n",
        "        ]\n",
        "        self.samples = samples\n",
        "    \n",
        "    def __getitem__(self, i):\n",
        "        return self.samples[i]\n",
        "    \n",
        "    def __len__(self):\n",
        "        return len(self.samples)"
      ],
      "id": "rGchnlVXYiBA"
    },
    {
      "cell_type": "markdown",
      "metadata": {
        "id": "umPT7fFyZIQu"
      },
      "source": [
        "### Função auxiliar"
      ],
      "id": "umPT7fFyZIQu"
    },
    {
      "cell_type": "markdown",
      "source": [
        "Enviando as entradas para o device"
      ],
      "metadata": {
        "id": "x1ovt8HMaa1t"
      },
      "id": "x1ovt8HMaa1t"
    },
    {
      "cell_type": "code",
      "execution_count": null,
      "metadata": {
        "id": "AGP963I6ZM_k"
      },
      "outputs": [],
      "source": [
        "def send_inputs_to_device(inputs, device):\n",
        "    return {key:tensor.to(device) for key, tensor in inputs.items()}"
      ],
      "id": "AGP963I6ZM_k"
    },
    {
      "cell_type": "markdown",
      "metadata": {
        "id": "fVHRvYJ2ZRWz"
      },
      "source": [
        "## Preparando os dados (Tokenização)"
      ],
      "id": "fVHRvYJ2ZRWz"
    },
    {
      "cell_type": "markdown",
      "source": [
        "Treino, validação e teste"
      ],
      "metadata": {
        "id": "vT-oB5KcWlMq"
      },
      "id": "vT-oB5KcWlMq"
    },
    {
      "cell_type": "code",
      "execution_count": null,
      "metadata": {
        "id": "XobvL0Q_ZU8o"
      },
      "outputs": [],
      "source": [
        "from transformers import BertTokenizer, BertForMaskedLM\n",
        "tokenizer = BertTokenizer.from_pretrained('neuralmind/bert-base-portuguese-cased')\n",
        "train_dataset = defClass(tokenizer, train['reviews'], (train['sentiment'] == 'positive').astype(int))\n",
        "dev_dataset   = defClass(tokenizer, dev['reviews'], (dev['sentiment'] == 'positive').astype(int))\n",
        "test_dataset  = defClass(tokenizer, test['reviews'], (test['sentiment'] == 'positive').astype(int))"
      ],
      "id": "XobvL0Q_ZU8o"
    },
    {
      "cell_type": "code",
      "execution_count": null,
      "metadata": {
        "colab": {
          "base_uri": "https://localhost:8080/"
        },
        "id": "PqP1-FWufQUX",
        "outputId": "6a8a7c02-623c-4df9-8cd2-fb9fc9e17ce9"
      },
      "outputs": [
        {
          "output_type": "execute_result",
          "data": {
            "text/plain": [
              "29794"
            ]
          },
          "metadata": {},
          "execution_count": 55
        }
      ],
      "source": [
        "len(tokenizer.vocab)"
      ],
      "id": "PqP1-FWufQUX"
    },
    {
      "cell_type": "markdown",
      "metadata": {
        "id": "1gZkJ-Y9eRql"
      },
      "source": [
        "Aqui, nós vamos utilizar o DataCollatorWithPadding. Uma vez que os nossos exemplos podem ter comprimentos diferentes, precisamos colocar padding para juntá-los em um batch. O DataCollatorWithPadding já faz isso para nós."
      ],
      "id": "1gZkJ-Y9eRql"
    },
    {
      "cell_type": "code",
      "execution_count": null,
      "metadata": {
        "id": "a0PzCZfWn2kU"
      },
      "outputs": [],
      "source": [
        "train_loader = DataLoader(train_dataset, batch_size=8, collate_fn=DataCollatorWithPadding(tokenizer))\n",
        "dev_loader = DataLoader(dev_dataset, batch_size=16, collate_fn=DataCollatorWithPadding(tokenizer))\n",
        "test_loader = DataLoader(test_dataset, batch_size=16, collate_fn=DataCollatorWithPadding(tokenizer))"
      ],
      "id": "a0PzCZfWn2kU"
    },
    {
      "cell_type": "markdown",
      "metadata": {
        "id": "rz2dgFigfI1O"
      },
      "source": [
        "### Implementação o modelo e otimizador - PT-BR\n",
        "Aqui nós definimos uma coisa extra que é começar o modelo com a parte pré treinada do BERT congelada. Assim a gente permite aos pesos do layer de classificação se acomodarem antes de começar a fazer o fine-tune na rede toda."
      ],
      "id": "rz2dgFigfI1O"
    },
    {
      "cell_type": "code",
      "execution_count": null,
      "metadata": {
        "id": "4_YeaqbWfJ6-"
      },
      "outputs": [],
      "source": [
        "from transformers import logging\n",
        "logging.set_verbosity_error()\n",
        "model = BertForSequenceClassification.from_pretrained(\n",
        "    'neuralmind/bert-base-portuguese-cased')\n",
        "model.train()\n",
        "\n",
        "device = torch.device('cuda' if torch.cuda.is_available() else 'cpu')\n",
        "\n",
        "model.to(device)\n",
        "\n",
        "optimizer = torch.optim.AdamW(model.parameters(), lr=5e-6) # Alterei o otimizador\n",
        "scheduler = torch.optim.lr_scheduler.ExponentialLR(optimizer, 0.9997)\n",
        "\n",
        "\n",
        "for param in model.base_model.parameters():\n",
        "    param.requires_grad = False"
      ],
      "id": "4_YeaqbWfJ6-"
    },
    {
      "cell_type": "markdown",
      "metadata": {
        "id": "UE6EEZrhfcTo"
      },
      "source": [
        "## Treinando o modelo\n",
        "Aqui vamos fazer a avaliação no devset a cada 200 passos. No passo 800 vamos soltar os pesos do modelo base do BERT pra aprender."
      ],
      "id": "UE6EEZrhfcTo"
    },
    {
      "cell_type": "code",
      "execution_count": null,
      "metadata": {
        "id": "VVef2xNmfSdw"
      },
      "outputs": [],
      "source": [
        "def evaluate(model, dev_loader, device):\n",
        "    with torch.no_grad():\n",
        "        model.eval()\n",
        "        dev_losses = []\n",
        "        tp, tn, fp, fn = [], [], [], []\n",
        "        for inputs in dev_loader:\n",
        "            inputs = send_inputs_to_device(inputs, device)\n",
        "            loss, scores = model(**inputs)[:2]\n",
        "            dev_losses.append(loss.cpu().item())\n",
        "\n",
        "            _, classification = torch.max(scores, 1)\n",
        "            labels = inputs['labels']\n",
        "            tp.append(((classification==1) & (labels==1)).sum().cpu().item())\n",
        "            tn.append(((classification==0) & (labels==0)).sum().cpu().item())\n",
        "            fp.append(((classification==1) & (labels==0)).sum().cpu().item())\n",
        "            fn.append(((classification==0) & (labels==1)).sum().cpu().item())\n",
        "\n",
        "        tp_s, tn_s, fp_s, fn_s = sum(tp), sum(tn), sum(fp), sum(fn)\n",
        "        print('Dev loss: {:.2f}; Acc: {:.2f}; tp: {}; tn: {}; fp: {}; fn: {}'.format( \n",
        "              np.mean(dev_losses), (tp_s+tn_s)/(tp_s+tn_s+fp_s+fn_s), tp_s, tn_s, fp_s, fn_s))\n",
        "\n",
        "        model.train()"
      ],
      "id": "VVef2xNmfSdw"
    },
    {
      "cell_type": "code",
      "execution_count": null,
      "metadata": {
        "colab": {
          "base_uri": "https://localhost:8080/",
          "height": 301,
          "referenced_widgets": [
            "7b66672251394d2cadbf7898acf51626",
            "86d616cde5fc449b8be05018d3087eb1",
            "08c914a0b5334c85ab76641b91086a89",
            "0eab87ab52884793b4bb4560adde7a8b",
            "175f98d89e334d34b144dfcc25cd27e8",
            "bddb98cf4d2a454b8bf6c3a0049d1419",
            "f6c5ab2b37a1448fa8a7b32f9e090586",
            "f144939f803040cfa05ddc6695a8e364",
            "5b0ec691e93642cb887049f6d92c35bb",
            "fc8a586639b44d659224b41014e7214d",
            "98bcf280383346eabbd8169aa9384b25",
            "c75bca9cef1746628b051c2cdcaa7893",
            "4404b25e84184130aadb62d4904f71cd",
            "a7e58270afee4cd7aac2252f18408084",
            "f3df13acef6a4e41b5a0cd34963e216d",
            "51f0e8534a604c3db6a69c57badbcb2e",
            "2c82dbc115de4339967386788298aca4",
            "f81c3b8f00da4248bd9242fed59200b8",
            "727e292d48bf482a890c06f73dff2346",
            "6299c13a17cd476b8273f3c3d3bd7480",
            "6b24590c07624df08e089cf0790873ea",
            "cb0ca134316440d2b7b3cf4adde3b1ee",
            "87cb6ae0b9a544399fdd04cc03c8ae28",
            "a8418659a8f64465b308d112a256ad96",
            "4139094262ed4fd0a593210961f896fc",
            "cf7617f4e25a44bf8957f4ce0b7eb402",
            "ff773bb686f54ff892ece1ab44accf0d",
            "8ae7d42ef1f94319af152363bc7a4a87",
            "689287a10226424ca4048058e1c39ae7",
            "229d40787fa5417b841f08260d9bf16a",
            "28626edc8d294f6bb1eb0b938f18417a",
            "92846c5628ee4462b7887cd38d59bb0a",
            "46b3f7039435483fb460ef4859162e5a",
            "fe07f7cc134f4df1a246713c15691a1c",
            "8273bc1311584ac6874cbe4cbeeec42a",
            "b3ff2f42cf274e168a7e223d809f8434",
            "29e0094b5343467da74c373f0cf490a0",
            "fffd1865e82343d7b6c29cac6ab3a3c9",
            "5fdf72aefb3e4fcabfa1912889b149d5",
            "9cc213c896c64c5486c45efde98f6439",
            "56b58651e34d4336a4a59edba0afb115",
            "cc4f7e1b23aa49aea2cb9707f11d319d",
            "5f9141888bda418aa999ab290728bd75",
            "8262866ba1f249efb564decd5c1ee52c"
          ]
        },
        "id": "Hlvfoz42fmXv",
        "outputId": "af67b96e-c89d-44da-8734-3e2a6102e790"
      },
      "outputs": [
        {
          "output_type": "display_data",
          "data": {
            "text/plain": [
              "  0%|          | 0/3 [00:00<?, ?it/s]"
            ],
            "application/vnd.jupyter.widget-view+json": {
              "version_major": 2,
              "version_minor": 0,
              "model_id": "7b66672251394d2cadbf7898acf51626"
            }
          },
          "metadata": {}
        },
        {
          "output_type": "display_data",
          "data": {
            "text/plain": [
              "Época 0:   0%|          | 0/525 [00:00<?, ?it/s]"
            ],
            "application/vnd.jupyter.widget-view+json": {
              "version_major": 2,
              "version_minor": 0,
              "model_id": "c75bca9cef1746628b051c2cdcaa7893"
            }
          },
          "metadata": {}
        },
        {
          "output_type": "stream",
          "name": "stdout",
          "text": [
            "Dev loss: 0.84; Acc: 0.23; tp: 15; tn: 224; fp: 12; fn: 799\n",
            "Dev loss: 0.77; Acc: 0.23; tp: 19; tn: 221; fp: 15; fn: 795\n",
            "Dev loss: 0.71; Acc: 0.31; tp: 139; tn: 186; fp: 50; fn: 675\n"
          ]
        },
        {
          "output_type": "display_data",
          "data": {
            "text/plain": [
              "Época 1:   0%|          | 0/525 [00:00<?, ?it/s]"
            ],
            "application/vnd.jupyter.widget-view+json": {
              "version_major": 2,
              "version_minor": 0,
              "model_id": "87cb6ae0b9a544399fdd04cc03c8ae28"
            }
          },
          "metadata": {}
        },
        {
          "output_type": "stream",
          "name": "stdout",
          "text": [
            "Dev loss: 0.69; Acc: 0.58; tp: 543; tn: 71; fp: 165; fn: 271\n",
            "Dev loss: 0.65; Acc: 0.76; tp: 789; tn: 9; fp: 227; fn: 25\n",
            "Dev loss: 0.39; Acc: 0.80; tp: 810; tn: 31; fp: 205; fn: 4\n"
          ]
        },
        {
          "output_type": "display_data",
          "data": {
            "text/plain": [
              "Época 2:   0%|          | 0/525 [00:00<?, ?it/s]"
            ],
            "application/vnd.jupyter.widget-view+json": {
              "version_major": 2,
              "version_minor": 0,
              "model_id": "fe07f7cc134f4df1a246713c15691a1c"
            }
          },
          "metadata": {}
        },
        {
          "output_type": "stream",
          "name": "stdout",
          "text": [
            "Dev loss: 0.24; Acc: 0.91; tp: 754; tn: 197; fp: 39; fn: 60\n",
            "Dev loss: 0.21; Acc: 0.92; tp: 780; tn: 190; fp: 46; fn: 34\n",
            "Dev loss: 0.21; Acc: 0.92; tp: 786; tn: 181; fp: 55; fn: 28\n"
          ]
        }
      ],
      "source": [
        "epoch_bar = tqdm_notebook(range(3))\n",
        "loss_acc = 0\n",
        "alpha = 0.95\n",
        "for epoch in epoch_bar:\n",
        "    batch_bar = tqdm_notebook(enumerate(train_loader), desc=f'Época {epoch}', total=len(train_loader))\n",
        "    for idx, inputs in batch_bar:\n",
        "        if (epoch * len(train_loader) + idx) == 800:\n",
        "            for param in model.base_model.parameters():\n",
        "                param.requires_grad = True\n",
        "\n",
        "        inputs = send_inputs_to_device(inputs, device)\n",
        "        optimizer.zero_grad()\n",
        "        loss, logits = model(**inputs)[:2]\n",
        "        \n",
        "        loss.backward()\n",
        "        optimizer.step()\n",
        "        if epoch == 0 and idx == 0:\n",
        "            loss_acc = loss.cpu().item()\n",
        "        else:\n",
        "            loss_acc = loss_acc * alpha + (1-alpha) * loss.cpu().item()\n",
        "        batch_bar.set_postfix(loss=loss_acc)\n",
        "        if idx%200 == 0:\n",
        "            del inputs\n",
        "            del loss\n",
        "            evaluate(model, dev_loader, device)\n",
        "\n",
        "        scheduler.step()\n",
        "     "
      ],
      "id": "Hlvfoz42fmXv"
    },
    {
      "cell_type": "markdown",
      "metadata": {
        "id": "zFiEoEyNgBoC"
      },
      "source": [
        "### Validando o modelo\n",
        "Agora vamos verificar o desempenho no dev set. Vamos ver a curva ROC e tb qual o melhor threshold de classificação com respeito a nossa métrica escolhida, acurácia"
      ],
      "id": "zFiEoEyNgBoC"
    },
    {
      "cell_type": "code",
      "execution_count": null,
      "metadata": {
        "id": "o6wNLLo6frD9",
        "colab": {
          "base_uri": "https://localhost:8080/",
          "height": 49,
          "referenced_widgets": [
            "498d024bc15c4fa4ac4925b2da0e2a28",
            "b8f25db57ee0469693921771ea4d67c3",
            "56263e866c7849399205b046406af241",
            "a1ab55b3cf9742e4b7855d949d8977e0",
            "377a1adb005e4d2dae3520c9f4426915",
            "a4c8e86753f84620a10bd3702812e72f",
            "7ea04fd57f2345398bcd89a13a5a68ca",
            "6cbbce20f52047a79d5a4b6f717c3f07",
            "b58e2ce7b8f24bc7861c8fb9eb5ce976",
            "73d3556f6fa54e5f8a69f9db7ad6da95",
            "1c52e35246ba4ead995b1e58e11e7d2b"
          ]
        },
        "outputId": "e416fcf7-2edd-4694-c7e3-66007b37fb1b"
      },
      "outputs": [
        {
          "output_type": "display_data",
          "data": {
            "text/plain": [
              "  0%|          | 0/66 [00:00<?, ?it/s]"
            ],
            "application/vnd.jupyter.widget-view+json": {
              "version_major": 2,
              "version_minor": 0,
              "model_id": "498d024bc15c4fa4ac4925b2da0e2a28"
            }
          },
          "metadata": {}
        }
      ],
      "source": [
        "with torch.no_grad():\n",
        "    model.eval()\n",
        "    pred = []\n",
        "    labels = []\n",
        "    for inputs in tqdm_notebook(dev_loader):\n",
        "        inputs = send_inputs_to_device(inputs, device)\n",
        "        _, scores = model(**inputs)[:2]\n",
        "        pred.append(F.softmax(scores, dim=1)[:, 1].cpu())\n",
        "        labels.append(inputs['labels'].cpu())\n",
        "pred = torch.cat(pred).numpy()\n",
        "labels = torch.cat(labels).numpy()"
      ],
      "id": "o6wNLLo6frD9"
    },
    {
      "cell_type": "code",
      "execution_count": null,
      "metadata": {
        "id": "1xBsRPNBgMgl",
        "colab": {
          "base_uri": "https://localhost:8080/",
          "height": 542
        },
        "outputId": "d9f6bb1c-ce8d-4c72-d6f1-ee4eb986a1c0"
      },
      "outputs": [
        {
          "output_type": "display_data",
          "data": {
            "text/html": [
              "<html>\n",
              "<head><meta charset=\"utf-8\" /></head>\n",
              "<body>\n",
              "    <div>            <script src=\"https://cdnjs.cloudflare.com/ajax/libs/mathjax/2.7.5/MathJax.js?config=TeX-AMS-MML_SVG\"></script><script type=\"text/javascript\">if (window.MathJax) {MathJax.Hub.Config({SVG: {font: \"STIX-Web\"}});}</script>                <script type=\"text/javascript\">window.PlotlyConfig = {MathJaxConfig: 'local'};</script>\n",
              "        <script src=\"https://cdn.plot.ly/plotly-2.8.3.min.js\"></script>                <div id=\"dff86c7f-c95a-4297-ade1-55979a20b830\" class=\"plotly-graph-div\" style=\"height:525px; width:100%;\"></div>            <script type=\"text/javascript\">                                    window.PLOTLYENV=window.PLOTLYENV || {};                                    if (document.getElementById(\"dff86c7f-c95a-4297-ade1-55979a20b830\")) {                    Plotly.newPlot(                        \"dff86c7f-c95a-4297-ade1-55979a20b830\",                        [{\"hovertemplate\":\"Falso positivo rate=%{x}<br>Verdadeiro positivo rate=%{y}<br>color=%{marker.color}<extra></extra>\",\"legendgroup\":\"\",\"marker\":{\"color\":[1.9914722442626953,0.9914721846580505,0.9912444949150085,0.9912034273147583,0.9911405444145203,0.9911262392997742,0.9911049008369446,0.9908864498138428,0.9908797740936279,0.9907151460647583,0.9907008409500122,0.9906133413314819,0.9906086921691895,0.9901752471923828,0.9901712536811829,0.9895443320274353,0.9895142316818237,0.9894635677337646,0.989458441734314,0.9892113208770752,0.9891946315765381,0.9890620112419128,0.9890559911727905,0.9889993071556091,0.9889851808547974,0.9887934327125549,0.988787829875946,0.987657904624939,0.9876393675804138,0.9864082336425781,0.9863759875297546,0.98162442445755,0.9815452694892883,0.9792337417602539,0.9790638089179993,0.97690749168396,0.9768988490104675,0.9736253619194031,0.9734607338905334,0.9725627899169922,0.9723248481750488,0.9646839499473572,0.9641619324684143,0.9628917574882507,0.961389422416687,0.9577396512031555,0.9572768211364746,0.9530273675918579,0.952181875705719,0.9511855244636536,0.9510154724121094,0.9412123560905457,0.9394316673278809,0.9384253025054932,0.9376693964004517,0.9273203015327454,0.9265649914741516,0.9126761555671692,0.9122840762138367,0.9091331362724304,0.9089605808258057,0.901306688785553,0.9003643989562988,0.8914116621017456,0.8909223079681396,0.8759616017341614,0.8741319179534912,0.8703555464744568,0.8699334263801575,0.8669208884239197,0.8611938953399658,0.8477706909179688,0.847585916519165,0.8276490569114685,0.8259707093238831,0.8255812525749207,0.8183271884918213,0.7853003144264221,0.7793958783149719,0.7776983976364136,0.776651918888092,0.7723437547683716,0.7707358598709106,0.7621608972549438,0.7533407807350159,0.7148888111114502,0.707758903503418,0.692676305770874,0.6832888722419739,0.6784476637840271,0.6726198196411133,0.6625909209251404,0.6433913111686707,0.6421390771865845,0.6297107338905334,0.5937493443489075,0.5933515429496765,0.5750629305839539,0.5268405079841614,0.5195785164833069,0.5176140666007996,0.5130689144134521,0.5076774954795837,0.5067344903945923,0.4846552014350891,0.4706225097179413,0.453810453414917,0.4425046145915985,0.4192546606063843,0.4171604812145233,0.40595486760139465,0.39438384771347046,0.3668575882911682,0.3078969419002533,0.300443172454834,0.292339950799942,0.27763473987579346,0.2723911702632904,0.25351083278656006,0.24454852938652039,0.22299990057945251,0.21581986546516418,0.21458035707473755,0.2039155215024948,0.19081920385360718,0.19016852974891663,0.1898338794708252,0.18229907751083374,0.17286211252212524,0.16761696338653564,0.15851648151874542,0.15362346172332764,0.11942150443792343,0.1168130561709404,0.11660865694284439,0.11390488594770432,0.10412801802158356,0.10281750559806824,0.09983591735363007,0.09816927462816238,0.09414701163768768,0.09256472438573837,0.07111859321594238,0.07057651877403259,0.06955505907535553,0.06729110330343246,0.05981088802218437,0.059306129813194275,0.05896471440792084,0.058678437024354935,0.04889073967933655,0.04879975691437721,0.03545750677585602],\"coloraxis\":\"coloraxis\",\"symbol\":\"circle\"},\"mode\":\"markers\",\"name\":\"\",\"orientation\":\"v\",\"showlegend\":false,\"x\":[0.0,0.0,0.0,0.0,0.0,0.0,0.0,0.0,0.0,0.0,0.0,0.0,0.00423728813559322,0.00423728813559322,0.00423728813559322,0.00423728813559322,0.00847457627118644,0.00847457627118644,0.00847457627118644,0.00847457627118644,0.00847457627118644,0.00847457627118644,0.00847457627118644,0.00847457627118644,0.00847457627118644,0.00847457627118644,0.00847457627118644,0.00847457627118644,0.00847457627118644,0.00847457627118644,0.00847457627118644,0.00847457627118644,0.00847457627118644,0.00847457627118644,0.012711864406779662,0.012711864406779662,0.01694915254237288,0.01694915254237288,0.025423728813559324,0.025423728813559324,0.029661016949152543,0.029661016949152543,0.03389830508474576,0.03389830508474576,0.038135593220338986,0.038135593220338986,0.0423728813559322,0.0423728813559322,0.046610169491525424,0.046610169491525424,0.05084745762711865,0.05084745762711865,0.05508474576271186,0.05508474576271186,0.059322033898305086,0.059322033898305086,0.06779661016949153,0.06779661016949153,0.07203389830508475,0.07203389830508475,0.07627118644067797,0.07627118644067797,0.08050847457627118,0.08050847457627118,0.08898305084745763,0.08898305084745763,0.09322033898305085,0.09322033898305085,0.09745762711864407,0.09745762711864407,0.1016949152542373,0.1016949152542373,0.1059322033898305,0.1059322033898305,0.11016949152542373,0.11016949152542373,0.11440677966101695,0.11440677966101695,0.11864406779661017,0.11864406779661017,0.1228813559322034,0.1228813559322034,0.1271186440677966,0.1271186440677966,0.13559322033898305,0.13559322033898305,0.13983050847457626,0.13983050847457626,0.1440677966101695,0.1440677966101695,0.1483050847457627,0.1483050847457627,0.15677966101694915,0.15677966101694915,0.16101694915254236,0.16101694915254236,0.1652542372881356,0.1652542372881356,0.17796610169491525,0.17796610169491525,0.18220338983050846,0.18220338983050846,0.1864406779661017,0.1864406779661017,0.19915254237288135,0.19915254237288135,0.2033898305084746,0.2033898305084746,0.211864406779661,0.211864406779661,0.22033898305084745,0.22033898305084745,0.2330508474576271,0.2330508474576271,0.24152542372881355,0.24152542372881355,0.25,0.25,0.2627118644067797,0.2627118644067797,0.2838983050847458,0.2838983050847458,0.288135593220339,0.288135593220339,0.3050847457627119,0.3050847457627119,0.3093220338983051,0.3093220338983051,0.326271186440678,0.326271186440678,0.3389830508474576,0.3389830508474576,0.4152542372881356,0.4152542372881356,0.4194915254237288,0.4194915254237288,0.4491525423728814,0.4491525423728814,0.4703389830508475,0.4703389830508475,0.4830508474576271,0.4830508474576271,0.6016949152542372,0.6016949152542372,0.6101694915254238,0.6101694915254238,0.7161016949152542,0.7161016949152542,0.7245762711864406,0.7245762711864406,0.809322033898305,0.809322033898305,1.0],\"xaxis\":\"x\",\"y\":[0.0,0.0012285012285012285,0.0036855036855036856,0.007371007371007371,0.0085995085995086,0.0171990171990172,0.019656019656019656,0.033169533169533166,0.03562653562653563,0.05896805896805897,0.06142506142506143,0.07493857493857493,0.09090909090909091,0.1547911547911548,0.15724815724815724,0.22727272727272727,0.22727272727272727,0.23464373464373464,0.2371007371007371,0.28255528255528256,0.28624078624078625,0.29975429975429974,0.3034398034398034,0.31203931203931207,0.3144963144963145,0.3452088452088452,0.3488943488943489,0.4484029484029484,0.45085995085995084,0.5110565110565111,0.5147420147420148,0.6412776412776413,0.6437346437346437,0.687960687960688,0.687960687960688,0.7076167076167076,0.7076167076167076,0.7321867321867321,0.7321867321867321,0.7395577395577395,0.7395577395577395,0.7653562653562653,0.7653562653562653,0.7678132678132679,0.7678132678132679,0.7837837837837838,0.7837837837837838,0.7923832923832924,0.7923832923832924,0.7936117936117936,0.7936117936117936,0.8108108108108109,0.8108108108108109,0.816953316953317,0.816953316953317,0.8329238329238329,0.8329238329238329,0.8488943488943489,0.8488943488943489,0.8574938574938575,0.8574938574938575,0.8611793611793612,0.8611793611793612,0.8673218673218673,0.8673218673218673,0.8746928746928747,0.8746928746928747,0.8796068796068796,0.8796068796068796,0.8832923832923832,0.8832923832923832,0.8882063882063882,0.8882063882063882,0.902948402948403,0.902948402948403,0.9041769041769042,0.9041769041769042,0.9164619164619164,0.9164619164619164,0.9176904176904177,0.9176904176904177,0.918918918918919,0.918918918918919,0.9226044226044227,0.9226044226044227,0.9299754299754299,0.9299754299754299,0.9324324324324325,0.9324324324324325,0.9336609336609336,0.9336609336609336,0.941031941031941,0.941031941031941,0.9422604422604423,0.9422604422604423,0.9496314496314496,0.9496314496314496,0.9533169533169533,0.9533169533169533,0.9545454545454546,0.9545454545454546,0.9557739557739557,0.9557739557739557,0.957002457002457,0.957002457002457,0.9594594594594594,0.9594594594594594,0.9606879606879607,0.9606879606879607,0.961916461916462,0.961916461916462,0.9643734643734644,0.9643734643734644,0.9680589680589681,0.9680589680589681,0.9705159705159705,0.9705159705159705,0.972972972972973,0.972972972972973,0.9742014742014742,0.9742014742014742,0.9754299754299754,0.9754299754299754,0.9778869778869779,0.9778869778869779,0.9791154791154791,0.9791154791154791,0.9815724815724816,0.9815724815724816,0.984029484029484,0.984029484029484,0.9852579852579852,0.9852579852579852,0.9877149877149877,0.9877149877149877,0.9889434889434889,0.9889434889434889,0.9901719901719902,0.9901719901719902,0.9914004914004914,0.9914004914004914,0.9926289926289926,0.9926289926289926,0.9938574938574939,0.9938574938574939,0.9963144963144963,0.9963144963144963,0.9975429975429976,0.9975429975429976,0.9987714987714987,0.9987714987714987,1.0,1.0],\"yaxis\":\"y\",\"type\":\"scatter\"}],                        {\"template\":{\"data\":{\"bar\":[{\"error_x\":{\"color\":\"#2a3f5f\"},\"error_y\":{\"color\":\"#2a3f5f\"},\"marker\":{\"line\":{\"color\":\"#E5ECF6\",\"width\":0.5},\"pattern\":{\"fillmode\":\"overlay\",\"size\":10,\"solidity\":0.2}},\"type\":\"bar\"}],\"barpolar\":[{\"marker\":{\"line\":{\"color\":\"#E5ECF6\",\"width\":0.5},\"pattern\":{\"fillmode\":\"overlay\",\"size\":10,\"solidity\":0.2}},\"type\":\"barpolar\"}],\"carpet\":[{\"aaxis\":{\"endlinecolor\":\"#2a3f5f\",\"gridcolor\":\"white\",\"linecolor\":\"white\",\"minorgridcolor\":\"white\",\"startlinecolor\":\"#2a3f5f\"},\"baxis\":{\"endlinecolor\":\"#2a3f5f\",\"gridcolor\":\"white\",\"linecolor\":\"white\",\"minorgridcolor\":\"white\",\"startlinecolor\":\"#2a3f5f\"},\"type\":\"carpet\"}],\"choropleth\":[{\"colorbar\":{\"outlinewidth\":0,\"ticks\":\"\"},\"type\":\"choropleth\"}],\"contour\":[{\"colorbar\":{\"outlinewidth\":0,\"ticks\":\"\"},\"colorscale\":[[0.0,\"#0d0887\"],[0.1111111111111111,\"#46039f\"],[0.2222222222222222,\"#7201a8\"],[0.3333333333333333,\"#9c179e\"],[0.4444444444444444,\"#bd3786\"],[0.5555555555555556,\"#d8576b\"],[0.6666666666666666,\"#ed7953\"],[0.7777777777777778,\"#fb9f3a\"],[0.8888888888888888,\"#fdca26\"],[1.0,\"#f0f921\"]],\"type\":\"contour\"}],\"contourcarpet\":[{\"colorbar\":{\"outlinewidth\":0,\"ticks\":\"\"},\"type\":\"contourcarpet\"}],\"heatmap\":[{\"colorbar\":{\"outlinewidth\":0,\"ticks\":\"\"},\"colorscale\":[[0.0,\"#0d0887\"],[0.1111111111111111,\"#46039f\"],[0.2222222222222222,\"#7201a8\"],[0.3333333333333333,\"#9c179e\"],[0.4444444444444444,\"#bd3786\"],[0.5555555555555556,\"#d8576b\"],[0.6666666666666666,\"#ed7953\"],[0.7777777777777778,\"#fb9f3a\"],[0.8888888888888888,\"#fdca26\"],[1.0,\"#f0f921\"]],\"type\":\"heatmap\"}],\"heatmapgl\":[{\"colorbar\":{\"outlinewidth\":0,\"ticks\":\"\"},\"colorscale\":[[0.0,\"#0d0887\"],[0.1111111111111111,\"#46039f\"],[0.2222222222222222,\"#7201a8\"],[0.3333333333333333,\"#9c179e\"],[0.4444444444444444,\"#bd3786\"],[0.5555555555555556,\"#d8576b\"],[0.6666666666666666,\"#ed7953\"],[0.7777777777777778,\"#fb9f3a\"],[0.8888888888888888,\"#fdca26\"],[1.0,\"#f0f921\"]],\"type\":\"heatmapgl\"}],\"histogram\":[{\"marker\":{\"pattern\":{\"fillmode\":\"overlay\",\"size\":10,\"solidity\":0.2}},\"type\":\"histogram\"}],\"histogram2d\":[{\"colorbar\":{\"outlinewidth\":0,\"ticks\":\"\"},\"colorscale\":[[0.0,\"#0d0887\"],[0.1111111111111111,\"#46039f\"],[0.2222222222222222,\"#7201a8\"],[0.3333333333333333,\"#9c179e\"],[0.4444444444444444,\"#bd3786\"],[0.5555555555555556,\"#d8576b\"],[0.6666666666666666,\"#ed7953\"],[0.7777777777777778,\"#fb9f3a\"],[0.8888888888888888,\"#fdca26\"],[1.0,\"#f0f921\"]],\"type\":\"histogram2d\"}],\"histogram2dcontour\":[{\"colorbar\":{\"outlinewidth\":0,\"ticks\":\"\"},\"colorscale\":[[0.0,\"#0d0887\"],[0.1111111111111111,\"#46039f\"],[0.2222222222222222,\"#7201a8\"],[0.3333333333333333,\"#9c179e\"],[0.4444444444444444,\"#bd3786\"],[0.5555555555555556,\"#d8576b\"],[0.6666666666666666,\"#ed7953\"],[0.7777777777777778,\"#fb9f3a\"],[0.8888888888888888,\"#fdca26\"],[1.0,\"#f0f921\"]],\"type\":\"histogram2dcontour\"}],\"mesh3d\":[{\"colorbar\":{\"outlinewidth\":0,\"ticks\":\"\"},\"type\":\"mesh3d\"}],\"parcoords\":[{\"line\":{\"colorbar\":{\"outlinewidth\":0,\"ticks\":\"\"}},\"type\":\"parcoords\"}],\"pie\":[{\"automargin\":true,\"type\":\"pie\"}],\"scatter\":[{\"marker\":{\"colorbar\":{\"outlinewidth\":0,\"ticks\":\"\"}},\"type\":\"scatter\"}],\"scatter3d\":[{\"line\":{\"colorbar\":{\"outlinewidth\":0,\"ticks\":\"\"}},\"marker\":{\"colorbar\":{\"outlinewidth\":0,\"ticks\":\"\"}},\"type\":\"scatter3d\"}],\"scattercarpet\":[{\"marker\":{\"colorbar\":{\"outlinewidth\":0,\"ticks\":\"\"}},\"type\":\"scattercarpet\"}],\"scattergeo\":[{\"marker\":{\"colorbar\":{\"outlinewidth\":0,\"ticks\":\"\"}},\"type\":\"scattergeo\"}],\"scattergl\":[{\"marker\":{\"colorbar\":{\"outlinewidth\":0,\"ticks\":\"\"}},\"type\":\"scattergl\"}],\"scattermapbox\":[{\"marker\":{\"colorbar\":{\"outlinewidth\":0,\"ticks\":\"\"}},\"type\":\"scattermapbox\"}],\"scatterpolar\":[{\"marker\":{\"colorbar\":{\"outlinewidth\":0,\"ticks\":\"\"}},\"type\":\"scatterpolar\"}],\"scatterpolargl\":[{\"marker\":{\"colorbar\":{\"outlinewidth\":0,\"ticks\":\"\"}},\"type\":\"scatterpolargl\"}],\"scatterternary\":[{\"marker\":{\"colorbar\":{\"outlinewidth\":0,\"ticks\":\"\"}},\"type\":\"scatterternary\"}],\"surface\":[{\"colorbar\":{\"outlinewidth\":0,\"ticks\":\"\"},\"colorscale\":[[0.0,\"#0d0887\"],[0.1111111111111111,\"#46039f\"],[0.2222222222222222,\"#7201a8\"],[0.3333333333333333,\"#9c179e\"],[0.4444444444444444,\"#bd3786\"],[0.5555555555555556,\"#d8576b\"],[0.6666666666666666,\"#ed7953\"],[0.7777777777777778,\"#fb9f3a\"],[0.8888888888888888,\"#fdca26\"],[1.0,\"#f0f921\"]],\"type\":\"surface\"}],\"table\":[{\"cells\":{\"fill\":{\"color\":\"#EBF0F8\"},\"line\":{\"color\":\"white\"}},\"header\":{\"fill\":{\"color\":\"#C8D4E3\"},\"line\":{\"color\":\"white\"}},\"type\":\"table\"}]},\"layout\":{\"annotationdefaults\":{\"arrowcolor\":\"#2a3f5f\",\"arrowhead\":0,\"arrowwidth\":1},\"autotypenumbers\":\"strict\",\"coloraxis\":{\"colorbar\":{\"outlinewidth\":0,\"ticks\":\"\"}},\"colorscale\":{\"diverging\":[[0,\"#8e0152\"],[0.1,\"#c51b7d\"],[0.2,\"#de77ae\"],[0.3,\"#f1b6da\"],[0.4,\"#fde0ef\"],[0.5,\"#f7f7f7\"],[0.6,\"#e6f5d0\"],[0.7,\"#b8e186\"],[0.8,\"#7fbc41\"],[0.9,\"#4d9221\"],[1,\"#276419\"]],\"sequential\":[[0.0,\"#0d0887\"],[0.1111111111111111,\"#46039f\"],[0.2222222222222222,\"#7201a8\"],[0.3333333333333333,\"#9c179e\"],[0.4444444444444444,\"#bd3786\"],[0.5555555555555556,\"#d8576b\"],[0.6666666666666666,\"#ed7953\"],[0.7777777777777778,\"#fb9f3a\"],[0.8888888888888888,\"#fdca26\"],[1.0,\"#f0f921\"]],\"sequentialminus\":[[0.0,\"#0d0887\"],[0.1111111111111111,\"#46039f\"],[0.2222222222222222,\"#7201a8\"],[0.3333333333333333,\"#9c179e\"],[0.4444444444444444,\"#bd3786\"],[0.5555555555555556,\"#d8576b\"],[0.6666666666666666,\"#ed7953\"],[0.7777777777777778,\"#fb9f3a\"],[0.8888888888888888,\"#fdca26\"],[1.0,\"#f0f921\"]]},\"colorway\":[\"#636efa\",\"#EF553B\",\"#00cc96\",\"#ab63fa\",\"#FFA15A\",\"#19d3f3\",\"#FF6692\",\"#B6E880\",\"#FF97FF\",\"#FECB52\"],\"font\":{\"color\":\"#2a3f5f\"},\"geo\":{\"bgcolor\":\"white\",\"lakecolor\":\"white\",\"landcolor\":\"#E5ECF6\",\"showlakes\":true,\"showland\":true,\"subunitcolor\":\"white\"},\"hoverlabel\":{\"align\":\"left\"},\"hovermode\":\"closest\",\"mapbox\":{\"style\":\"light\"},\"paper_bgcolor\":\"white\",\"plot_bgcolor\":\"#E5ECF6\",\"polar\":{\"angularaxis\":{\"gridcolor\":\"white\",\"linecolor\":\"white\",\"ticks\":\"\"},\"bgcolor\":\"#E5ECF6\",\"radialaxis\":{\"gridcolor\":\"white\",\"linecolor\":\"white\",\"ticks\":\"\"}},\"scene\":{\"xaxis\":{\"backgroundcolor\":\"#E5ECF6\",\"gridcolor\":\"white\",\"gridwidth\":2,\"linecolor\":\"white\",\"showbackground\":true,\"ticks\":\"\",\"zerolinecolor\":\"white\"},\"yaxis\":{\"backgroundcolor\":\"#E5ECF6\",\"gridcolor\":\"white\",\"gridwidth\":2,\"linecolor\":\"white\",\"showbackground\":true,\"ticks\":\"\",\"zerolinecolor\":\"white\"},\"zaxis\":{\"backgroundcolor\":\"#E5ECF6\",\"gridcolor\":\"white\",\"gridwidth\":2,\"linecolor\":\"white\",\"showbackground\":true,\"ticks\":\"\",\"zerolinecolor\":\"white\"}},\"shapedefaults\":{\"line\":{\"color\":\"#2a3f5f\"}},\"ternary\":{\"aaxis\":{\"gridcolor\":\"white\",\"linecolor\":\"white\",\"ticks\":\"\"},\"baxis\":{\"gridcolor\":\"white\",\"linecolor\":\"white\",\"ticks\":\"\"},\"bgcolor\":\"#E5ECF6\",\"caxis\":{\"gridcolor\":\"white\",\"linecolor\":\"white\",\"ticks\":\"\"}},\"title\":{\"x\":0.05},\"xaxis\":{\"automargin\":true,\"gridcolor\":\"white\",\"linecolor\":\"white\",\"ticks\":\"\",\"title\":{\"standoff\":15},\"zerolinecolor\":\"white\",\"zerolinewidth\":2},\"yaxis\":{\"automargin\":true,\"gridcolor\":\"white\",\"linecolor\":\"white\",\"ticks\":\"\",\"title\":{\"standoff\":15},\"zerolinecolor\":\"white\",\"zerolinewidth\":2}}},\"xaxis\":{\"anchor\":\"y\",\"domain\":[0.0,1.0],\"title\":{\"text\":\"Falso positivo rate\"}},\"yaxis\":{\"anchor\":\"x\",\"domain\":[0.0,1.0],\"title\":{\"text\":\"Verdadeiro positivo rate\"}},\"coloraxis\":{\"colorbar\":{\"title\":{\"text\":\"color\"}},\"colorscale\":[[0.0,\"#0d0887\"],[0.1111111111111111,\"#46039f\"],[0.2222222222222222,\"#7201a8\"],[0.3333333333333333,\"#9c179e\"],[0.4444444444444444,\"#bd3786\"],[0.5555555555555556,\"#d8576b\"],[0.6666666666666666,\"#ed7953\"],[0.7777777777777778,\"#fb9f3a\"],[0.8888888888888888,\"#fdca26\"],[1.0,\"#f0f921\"]]},\"legend\":{\"tracegroupgap\":0},\"title\":{\"text\":\"Curva ROC\"}},                        {\"responsive\": true}                    ).then(function(){\n",
              "                            \n",
              "var gd = document.getElementById('dff86c7f-c95a-4297-ade1-55979a20b830');\n",
              "var x = new MutationObserver(function (mutations, observer) {{\n",
              "        var display = window.getComputedStyle(gd).display;\n",
              "        if (!display || display === 'none') {{\n",
              "            console.log([gd, 'removed!']);\n",
              "            Plotly.purge(gd);\n",
              "            observer.disconnect();\n",
              "        }}\n",
              "}});\n",
              "\n",
              "// Listen for the removal of the full notebook cells\n",
              "var notebookContainer = gd.closest('#notebook-container');\n",
              "if (notebookContainer) {{\n",
              "    x.observe(notebookContainer, {childList: true});\n",
              "}}\n",
              "\n",
              "// Listen for the clearing of the current output cell\n",
              "var outputEl = gd.closest('.output');\n",
              "if (outputEl) {{\n",
              "    x.observe(outputEl, {childList: true});\n",
              "}}\n",
              "\n",
              "                        })                };                            </script>        </div>\n",
              "</body>\n",
              "</html>"
            ]
          },
          "metadata": {}
        }
      ],
      "source": [
        "fpr, tpr, thresholds = metrics.roc_curve(labels, pred, pos_label=1)\n",
        "roc_auc = metrics.auc(fpr, tpr)\n",
        "\n",
        "fig = px.scatter(\n",
        "    x=fpr, y=tpr, color=thresholds, \n",
        "    labels={'x': 'Falso positivo rate', 'y': 'Verdadeiro positivo rate'},\n",
        "    title='Curva ROC')\n",
        "fig.show()"
      ],
      "id": "1xBsRPNBgMgl"
    },
    {
      "cell_type": "code",
      "execution_count": null,
      "metadata": {
        "id": "6QWP8nwGgI1A",
        "colab": {
          "base_uri": "https://localhost:8080/",
          "height": 542
        },
        "outputId": "8c7764e8-ed16-4e2d-b212-46d6e262f4a5"
      },
      "outputs": [
        {
          "output_type": "display_data",
          "data": {
            "text/html": [
              "<html>\n",
              "<head><meta charset=\"utf-8\" /></head>\n",
              "<body>\n",
              "    <div>            <script src=\"https://cdnjs.cloudflare.com/ajax/libs/mathjax/2.7.5/MathJax.js?config=TeX-AMS-MML_SVG\"></script><script type=\"text/javascript\">if (window.MathJax) {MathJax.Hub.Config({SVG: {font: \"STIX-Web\"}});}</script>                <script type=\"text/javascript\">window.PlotlyConfig = {MathJaxConfig: 'local'};</script>\n",
              "        <script src=\"https://cdn.plot.ly/plotly-2.8.3.min.js\"></script>                <div id=\"11a45218-eb82-4386-850a-2c9aef61c342\" class=\"plotly-graph-div\" style=\"height:525px; width:100%;\"></div>            <script type=\"text/javascript\">                                    window.PLOTLYENV=window.PLOTLYENV || {};                                    if (document.getElementById(\"11a45218-eb82-4386-850a-2c9aef61c342\")) {                    Plotly.newPlot(                        \"11a45218-eb82-4386-850a-2c9aef61c342\",                        [{\"hovertemplate\":\"threshold=%{x}<br>acur\\u00e1cia=%{y}<extra></extra>\",\"legendgroup\":\"\",\"marker\":{\"color\":\"#636efa\",\"symbol\":\"circle\"},\"mode\":\"markers\",\"name\":\"\",\"orientation\":\"v\",\"showlegend\":false,\"x\":[1.9914722442626953,0.9914721846580505,0.9912444949150085,0.9912034273147583,0.9911405444145203,0.9911262392997742,0.9911049008369446,0.9908864498138428,0.9908797740936279,0.9907151460647583,0.9907008409500122,0.9906133413314819,0.9906086921691895,0.9901752471923828,0.9901712536811829,0.9895443320274353,0.9895142316818237,0.9894635677337646,0.989458441734314,0.9892113208770752,0.9891946315765381,0.9890620112419128,0.9890559911727905,0.9889993071556091,0.9889851808547974,0.9887934327125549,0.988787829875946,0.987657904624939,0.9876393675804138,0.9864082336425781,0.9863759875297546,0.98162442445755,0.9815452694892883,0.9792337417602539,0.9790638089179993,0.97690749168396,0.9768988490104675,0.9736253619194031,0.9734607338905334,0.9725627899169922,0.9723248481750488,0.9646839499473572,0.9641619324684143,0.9628917574882507,0.961389422416687,0.9577396512031555,0.9572768211364746,0.9530273675918579,0.952181875705719,0.9511855244636536,0.9510154724121094,0.9412123560905457,0.9394316673278809,0.9384253025054932,0.9376693964004517,0.9273203015327454,0.9265649914741516,0.9126761555671692,0.9122840762138367,0.9091331362724304,0.9089605808258057,0.901306688785553,0.9003643989562988,0.8914116621017456,0.8909223079681396,0.8759616017341614,0.8741319179534912,0.8703555464744568,0.8699334263801575,0.8669208884239197,0.8611938953399658,0.8477706909179688,0.847585916519165,0.8276490569114685,0.8259707093238831,0.8255812525749207,0.8183271884918213,0.7853003144264221,0.7793958783149719,0.7776983976364136,0.776651918888092,0.7723437547683716,0.7707358598709106,0.7621608972549438,0.7533407807350159,0.7148888111114502,0.707758903503418,0.692676305770874,0.6832888722419739,0.6784476637840271,0.6726198196411133,0.6625909209251404,0.6433913111686707,0.6421390771865845,0.6297107338905334,0.5937493443489075,0.5933515429496765,0.5750629305839539,0.5268405079841614,0.5195785164833069,0.5176140666007996,0.5130689144134521,0.5076774954795837,0.5067344903945923,0.4846552014350891,0.4706225097179413,0.453810453414917,0.4425046145915985,0.4192546606063843,0.4171604812145233,0.40595486760139465,0.39438384771347046,0.3668575882911682,0.3078969419002533,0.300443172454834,0.292339950799942,0.27763473987579346,0.2723911702632904,0.25351083278656006,0.24454852938652039,0.22299990057945251,0.21581986546516418,0.21458035707473755,0.2039155215024948,0.19081920385360718,0.19016852974891663,0.1898338794708252,0.18229907751083374,0.17286211252212524,0.16761696338653564,0.15851648151874542,0.15362346172332764,0.11942150443792343,0.1168130561709404,0.11660865694284439,0.11390488594770432,0.10412801802158356,0.10281750559806824,0.09983591735363007,0.09816927462816238,0.09414701163768768,0.09256472438573837,0.07111859321594238,0.07057651877403259,0.06955505907535553,0.06729110330343246,0.05981088802218437,0.059306129813194275,0.05896471440792084,0.058678437024354935,0.04889073967933655,0.04879975691437721,0.03545750677585602],\"xaxis\":\"x\",\"y\":[0.22476190476190477,0.22476190476190477,0.22666666666666666,0.2276190476190476,0.23047619047619047,0.23142857142857143,0.23809523809523808,0.24952380952380954,0.25047619047619046,0.2695238095238095,0.2704761904761905,0.2819047619047619,0.28285714285714286,0.34285714285714286,0.3438095238095238,0.39904761904761904,0.4,0.4038095238095238,0.40476190476190477,0.44095238095238093,0.4419047619047619,0.4542857142857143,0.4552380952380952,0.4638095238095238,0.46476190476190476,0.4895238095238095,0.49047619047619045,0.5695238095238095,0.5704761904761905,0.6180952380952381,0.6190476190476191,0.719047619047619,0.72,0.7552380952380953,0.7561904761904762,0.7695238095238095,0.7704761904761904,0.7876190476190477,0.7876190476190477,0.7914285714285715,0.7923809523809524,0.8104761904761905,0.8114285714285714,0.8114285714285714,0.8123809523809524,0.8228571428571428,0.8238095238095238,0.8285714285714286,0.8295238095238096,0.8285714285714286,0.8295238095238096,0.840952380952381,0.8419047619047619,0.8447619047619047,0.8457142857142858,0.8561904761904762,0.8561904761904762,0.8666666666666667,0.8676190476190476,0.8723809523809524,0.8733333333333333,0.8742857142857143,0.8752380952380953,0.878095238095238,0.878095238095238,0.8819047619047619,0.8828571428571429,0.8847619047619047,0.8857142857142857,0.8866666666666667,0.8876190476190476,0.8895238095238095,0.8904761904761904,0.9,0.900952380952381,0.9,0.900952380952381,0.9085714285714286,0.9095238095238095,0.9085714285714286,0.9095238095238095,0.9085714285714286,0.9095238095238095,0.9104761904761904,0.9104761904761904,0.9142857142857143,0.9152380952380952,0.9152380952380952,0.9161904761904762,0.9152380952380952,0.9161904761904762,0.92,0.92,0.919047619047619,0.92,0.9238095238095239,0.9247619047619048,0.9257142857142857,0.9247619047619048,0.9238095238095239,0.9247619047619048,0.9238095238095239,0.9247619047619048,0.9238095238095239,0.9228571428571428,0.9228571428571428,0.9238095238095239,0.9228571428571428,0.9228571428571428,0.9219047619047619,0.9219047619047619,0.9219047619047619,0.920952380952381,0.9219047619047619,0.9219047619047619,0.9219047619047619,0.9219047619047619,0.9219047619047619,0.920952380952381,0.92,0.9171428571428571,0.9161904761904762,0.9171428571428571,0.9171428571428571,0.9152380952380952,0.9142857142857143,0.9152380952380952,0.9152380952380952,0.9133333333333333,0.9133333333333333,0.9123809523809524,0.9114285714285715,0.8961904761904762,0.8961904761904762,0.8971428571428571,0.8961904761904762,0.8914285714285715,0.8904761904761904,0.8876190476190476,0.8866666666666667,0.8857142857142857,0.8847619047619047,0.86,0.8590476190476191,0.8590476190476191,0.8590476190476191,0.8371428571428572,0.8361904761904762,0.8361904761904762,0.8352380952380952,0.8180952380952381,0.8171428571428572,0.7761904761904762],\"yaxis\":\"y\",\"type\":\"scatter\"}],                        {\"template\":{\"data\":{\"bar\":[{\"error_x\":{\"color\":\"#2a3f5f\"},\"error_y\":{\"color\":\"#2a3f5f\"},\"marker\":{\"line\":{\"color\":\"#E5ECF6\",\"width\":0.5},\"pattern\":{\"fillmode\":\"overlay\",\"size\":10,\"solidity\":0.2}},\"type\":\"bar\"}],\"barpolar\":[{\"marker\":{\"line\":{\"color\":\"#E5ECF6\",\"width\":0.5},\"pattern\":{\"fillmode\":\"overlay\",\"size\":10,\"solidity\":0.2}},\"type\":\"barpolar\"}],\"carpet\":[{\"aaxis\":{\"endlinecolor\":\"#2a3f5f\",\"gridcolor\":\"white\",\"linecolor\":\"white\",\"minorgridcolor\":\"white\",\"startlinecolor\":\"#2a3f5f\"},\"baxis\":{\"endlinecolor\":\"#2a3f5f\",\"gridcolor\":\"white\",\"linecolor\":\"white\",\"minorgridcolor\":\"white\",\"startlinecolor\":\"#2a3f5f\"},\"type\":\"carpet\"}],\"choropleth\":[{\"colorbar\":{\"outlinewidth\":0,\"ticks\":\"\"},\"type\":\"choropleth\"}],\"contour\":[{\"colorbar\":{\"outlinewidth\":0,\"ticks\":\"\"},\"colorscale\":[[0.0,\"#0d0887\"],[0.1111111111111111,\"#46039f\"],[0.2222222222222222,\"#7201a8\"],[0.3333333333333333,\"#9c179e\"],[0.4444444444444444,\"#bd3786\"],[0.5555555555555556,\"#d8576b\"],[0.6666666666666666,\"#ed7953\"],[0.7777777777777778,\"#fb9f3a\"],[0.8888888888888888,\"#fdca26\"],[1.0,\"#f0f921\"]],\"type\":\"contour\"}],\"contourcarpet\":[{\"colorbar\":{\"outlinewidth\":0,\"ticks\":\"\"},\"type\":\"contourcarpet\"}],\"heatmap\":[{\"colorbar\":{\"outlinewidth\":0,\"ticks\":\"\"},\"colorscale\":[[0.0,\"#0d0887\"],[0.1111111111111111,\"#46039f\"],[0.2222222222222222,\"#7201a8\"],[0.3333333333333333,\"#9c179e\"],[0.4444444444444444,\"#bd3786\"],[0.5555555555555556,\"#d8576b\"],[0.6666666666666666,\"#ed7953\"],[0.7777777777777778,\"#fb9f3a\"],[0.8888888888888888,\"#fdca26\"],[1.0,\"#f0f921\"]],\"type\":\"heatmap\"}],\"heatmapgl\":[{\"colorbar\":{\"outlinewidth\":0,\"ticks\":\"\"},\"colorscale\":[[0.0,\"#0d0887\"],[0.1111111111111111,\"#46039f\"],[0.2222222222222222,\"#7201a8\"],[0.3333333333333333,\"#9c179e\"],[0.4444444444444444,\"#bd3786\"],[0.5555555555555556,\"#d8576b\"],[0.6666666666666666,\"#ed7953\"],[0.7777777777777778,\"#fb9f3a\"],[0.8888888888888888,\"#fdca26\"],[1.0,\"#f0f921\"]],\"type\":\"heatmapgl\"}],\"histogram\":[{\"marker\":{\"pattern\":{\"fillmode\":\"overlay\",\"size\":10,\"solidity\":0.2}},\"type\":\"histogram\"}],\"histogram2d\":[{\"colorbar\":{\"outlinewidth\":0,\"ticks\":\"\"},\"colorscale\":[[0.0,\"#0d0887\"],[0.1111111111111111,\"#46039f\"],[0.2222222222222222,\"#7201a8\"],[0.3333333333333333,\"#9c179e\"],[0.4444444444444444,\"#bd3786\"],[0.5555555555555556,\"#d8576b\"],[0.6666666666666666,\"#ed7953\"],[0.7777777777777778,\"#fb9f3a\"],[0.8888888888888888,\"#fdca26\"],[1.0,\"#f0f921\"]],\"type\":\"histogram2d\"}],\"histogram2dcontour\":[{\"colorbar\":{\"outlinewidth\":0,\"ticks\":\"\"},\"colorscale\":[[0.0,\"#0d0887\"],[0.1111111111111111,\"#46039f\"],[0.2222222222222222,\"#7201a8\"],[0.3333333333333333,\"#9c179e\"],[0.4444444444444444,\"#bd3786\"],[0.5555555555555556,\"#d8576b\"],[0.6666666666666666,\"#ed7953\"],[0.7777777777777778,\"#fb9f3a\"],[0.8888888888888888,\"#fdca26\"],[1.0,\"#f0f921\"]],\"type\":\"histogram2dcontour\"}],\"mesh3d\":[{\"colorbar\":{\"outlinewidth\":0,\"ticks\":\"\"},\"type\":\"mesh3d\"}],\"parcoords\":[{\"line\":{\"colorbar\":{\"outlinewidth\":0,\"ticks\":\"\"}},\"type\":\"parcoords\"}],\"pie\":[{\"automargin\":true,\"type\":\"pie\"}],\"scatter\":[{\"marker\":{\"colorbar\":{\"outlinewidth\":0,\"ticks\":\"\"}},\"type\":\"scatter\"}],\"scatter3d\":[{\"line\":{\"colorbar\":{\"outlinewidth\":0,\"ticks\":\"\"}},\"marker\":{\"colorbar\":{\"outlinewidth\":0,\"ticks\":\"\"}},\"type\":\"scatter3d\"}],\"scattercarpet\":[{\"marker\":{\"colorbar\":{\"outlinewidth\":0,\"ticks\":\"\"}},\"type\":\"scattercarpet\"}],\"scattergeo\":[{\"marker\":{\"colorbar\":{\"outlinewidth\":0,\"ticks\":\"\"}},\"type\":\"scattergeo\"}],\"scattergl\":[{\"marker\":{\"colorbar\":{\"outlinewidth\":0,\"ticks\":\"\"}},\"type\":\"scattergl\"}],\"scattermapbox\":[{\"marker\":{\"colorbar\":{\"outlinewidth\":0,\"ticks\":\"\"}},\"type\":\"scattermapbox\"}],\"scatterpolar\":[{\"marker\":{\"colorbar\":{\"outlinewidth\":0,\"ticks\":\"\"}},\"type\":\"scatterpolar\"}],\"scatterpolargl\":[{\"marker\":{\"colorbar\":{\"outlinewidth\":0,\"ticks\":\"\"}},\"type\":\"scatterpolargl\"}],\"scatterternary\":[{\"marker\":{\"colorbar\":{\"outlinewidth\":0,\"ticks\":\"\"}},\"type\":\"scatterternary\"}],\"surface\":[{\"colorbar\":{\"outlinewidth\":0,\"ticks\":\"\"},\"colorscale\":[[0.0,\"#0d0887\"],[0.1111111111111111,\"#46039f\"],[0.2222222222222222,\"#7201a8\"],[0.3333333333333333,\"#9c179e\"],[0.4444444444444444,\"#bd3786\"],[0.5555555555555556,\"#d8576b\"],[0.6666666666666666,\"#ed7953\"],[0.7777777777777778,\"#fb9f3a\"],[0.8888888888888888,\"#fdca26\"],[1.0,\"#f0f921\"]],\"type\":\"surface\"}],\"table\":[{\"cells\":{\"fill\":{\"color\":\"#EBF0F8\"},\"line\":{\"color\":\"white\"}},\"header\":{\"fill\":{\"color\":\"#C8D4E3\"},\"line\":{\"color\":\"white\"}},\"type\":\"table\"}]},\"layout\":{\"annotationdefaults\":{\"arrowcolor\":\"#2a3f5f\",\"arrowhead\":0,\"arrowwidth\":1},\"autotypenumbers\":\"strict\",\"coloraxis\":{\"colorbar\":{\"outlinewidth\":0,\"ticks\":\"\"}},\"colorscale\":{\"diverging\":[[0,\"#8e0152\"],[0.1,\"#c51b7d\"],[0.2,\"#de77ae\"],[0.3,\"#f1b6da\"],[0.4,\"#fde0ef\"],[0.5,\"#f7f7f7\"],[0.6,\"#e6f5d0\"],[0.7,\"#b8e186\"],[0.8,\"#7fbc41\"],[0.9,\"#4d9221\"],[1,\"#276419\"]],\"sequential\":[[0.0,\"#0d0887\"],[0.1111111111111111,\"#46039f\"],[0.2222222222222222,\"#7201a8\"],[0.3333333333333333,\"#9c179e\"],[0.4444444444444444,\"#bd3786\"],[0.5555555555555556,\"#d8576b\"],[0.6666666666666666,\"#ed7953\"],[0.7777777777777778,\"#fb9f3a\"],[0.8888888888888888,\"#fdca26\"],[1.0,\"#f0f921\"]],\"sequentialminus\":[[0.0,\"#0d0887\"],[0.1111111111111111,\"#46039f\"],[0.2222222222222222,\"#7201a8\"],[0.3333333333333333,\"#9c179e\"],[0.4444444444444444,\"#bd3786\"],[0.5555555555555556,\"#d8576b\"],[0.6666666666666666,\"#ed7953\"],[0.7777777777777778,\"#fb9f3a\"],[0.8888888888888888,\"#fdca26\"],[1.0,\"#f0f921\"]]},\"colorway\":[\"#636efa\",\"#EF553B\",\"#00cc96\",\"#ab63fa\",\"#FFA15A\",\"#19d3f3\",\"#FF6692\",\"#B6E880\",\"#FF97FF\",\"#FECB52\"],\"font\":{\"color\":\"#2a3f5f\"},\"geo\":{\"bgcolor\":\"white\",\"lakecolor\":\"white\",\"landcolor\":\"#E5ECF6\",\"showlakes\":true,\"showland\":true,\"subunitcolor\":\"white\"},\"hoverlabel\":{\"align\":\"left\"},\"hovermode\":\"closest\",\"mapbox\":{\"style\":\"light\"},\"paper_bgcolor\":\"white\",\"plot_bgcolor\":\"#E5ECF6\",\"polar\":{\"angularaxis\":{\"gridcolor\":\"white\",\"linecolor\":\"white\",\"ticks\":\"\"},\"bgcolor\":\"#E5ECF6\",\"radialaxis\":{\"gridcolor\":\"white\",\"linecolor\":\"white\",\"ticks\":\"\"}},\"scene\":{\"xaxis\":{\"backgroundcolor\":\"#E5ECF6\",\"gridcolor\":\"white\",\"gridwidth\":2,\"linecolor\":\"white\",\"showbackground\":true,\"ticks\":\"\",\"zerolinecolor\":\"white\"},\"yaxis\":{\"backgroundcolor\":\"#E5ECF6\",\"gridcolor\":\"white\",\"gridwidth\":2,\"linecolor\":\"white\",\"showbackground\":true,\"ticks\":\"\",\"zerolinecolor\":\"white\"},\"zaxis\":{\"backgroundcolor\":\"#E5ECF6\",\"gridcolor\":\"white\",\"gridwidth\":2,\"linecolor\":\"white\",\"showbackground\":true,\"ticks\":\"\",\"zerolinecolor\":\"white\"}},\"shapedefaults\":{\"line\":{\"color\":\"#2a3f5f\"}},\"ternary\":{\"aaxis\":{\"gridcolor\":\"white\",\"linecolor\":\"white\",\"ticks\":\"\"},\"baxis\":{\"gridcolor\":\"white\",\"linecolor\":\"white\",\"ticks\":\"\"},\"bgcolor\":\"#E5ECF6\",\"caxis\":{\"gridcolor\":\"white\",\"linecolor\":\"white\",\"ticks\":\"\"}},\"title\":{\"x\":0.05},\"xaxis\":{\"automargin\":true,\"gridcolor\":\"white\",\"linecolor\":\"white\",\"ticks\":\"\",\"title\":{\"standoff\":15},\"zerolinecolor\":\"white\",\"zerolinewidth\":2},\"yaxis\":{\"automargin\":true,\"gridcolor\":\"white\",\"linecolor\":\"white\",\"ticks\":\"\",\"title\":{\"standoff\":15},\"zerolinecolor\":\"white\",\"zerolinewidth\":2}}},\"xaxis\":{\"anchor\":\"y\",\"domain\":[0.0,1.0],\"title\":{\"text\":\"threshold\"}},\"yaxis\":{\"anchor\":\"x\",\"domain\":[0.0,1.0],\"title\":{\"text\":\"acur\\u00e1cia\"}},\"legend\":{\"tracegroupgap\":0},\"title\":{\"text\":\"Acur\\u00e1cia em diferentes thresholds\"}},                        {\"responsive\": true}                    ).then(function(){\n",
              "                            \n",
              "var gd = document.getElementById('11a45218-eb82-4386-850a-2c9aef61c342');\n",
              "var x = new MutationObserver(function (mutations, observer) {{\n",
              "        var display = window.getComputedStyle(gd).display;\n",
              "        if (!display || display === 'none') {{\n",
              "            console.log([gd, 'removed!']);\n",
              "            Plotly.purge(gd);\n",
              "            observer.disconnect();\n",
              "        }}\n",
              "}});\n",
              "\n",
              "// Listen for the removal of the full notebook cells\n",
              "var notebookContainer = gd.closest('#notebook-container');\n",
              "if (notebookContainer) {{\n",
              "    x.observe(notebookContainer, {childList: true});\n",
              "}}\n",
              "\n",
              "// Listen for the clearing of the current output cell\n",
              "var outputEl = gd.closest('.output');\n",
              "if (outputEl) {{\n",
              "    x.observe(outputEl, {childList: true});\n",
              "}}\n",
              "\n",
              "                        })                };                            </script>        </div>\n",
              "</body>\n",
              "</html>"
            ]
          },
          "metadata": {}
        }
      ],
      "source": [
        "acc = []\n",
        "for th in thresholds:\n",
        "    acc.append(metrics.accuracy_score(pred > th, labels))\n",
        "\n",
        "fig2 = px.scatter(\n",
        "    x=thresholds, y=acc, labels={'x': 'threshold', 'y': 'acurácia'}, \n",
        "    title='Acurácia em diferentes thresholds')\n",
        "fig2.show() "
      ],
      "id": "6QWP8nwGgI1A"
    },
    {
      "cell_type": "markdown",
      "metadata": {
        "id": "S2jXmbErgWFp"
      },
      "source": [
        "## Avaliação final\n",
        "Finalmente vamos avaliar o modelo no conjunto de test com o threshold escolhido"
      ],
      "id": "S2jXmbErgWFp"
    },
    {
      "cell_type": "code",
      "execution_count": null,
      "metadata": {
        "id": "XnmmoMz7gSQQ",
        "colab": {
          "base_uri": "https://localhost:8080/",
          "height": 49,
          "referenced_widgets": [
            "e964aa9756984d44ba860565d1b8b2db",
            "ec1ffbc917064037aba2bf72838c8f74",
            "7ce6fc02ad6d4efaa1b7a25114d5883d",
            "08d85d9179bd45258a032be790d0d757",
            "fc6536f2ea1842cb8a522ecdf66a0619",
            "57ae1c4428f94d97b6b024c9800bb40f",
            "dabe2027bc9c4194b14b9970cd9c521e",
            "139e808161d64e489ec0a19bf8a321df",
            "161af41b45374a58b909c25eb7b40cb9",
            "bb6debd3b16345068e8a9f373ef48465",
            "849c7a42183c4d14b9358d8ae30caa54"
          ]
        },
        "outputId": "626b4ae1-4af4-4e82-c9fe-33801745511e"
      },
      "outputs": [
        {
          "output_type": "display_data",
          "data": {
            "text/plain": [
              "  0%|          | 0/37 [00:00<?, ?it/s]"
            ],
            "application/vnd.jupyter.widget-view+json": {
              "version_major": 2,
              "version_minor": 0,
              "model_id": "e964aa9756984d44ba860565d1b8b2db"
            }
          },
          "metadata": {}
        }
      ],
      "source": [
        "with torch.no_grad():\n",
        "    model.eval()\n",
        "    pred = []\n",
        "    labels = []\n",
        "    for inputs in tqdm_notebook(test_loader):\n",
        "        inputs = send_inputs_to_device(inputs, device)\n",
        "        _, scores = model(**inputs)[:2]\n",
        "        pred.append(F.softmax(scores, dim=1)[:, 1].cpu())\n",
        "        labels.append(inputs['labels'].cpu())\n",
        "pred = torch.cat(pred).numpy()\n",
        "labels = torch.cat(labels).numpy()"
      ],
      "id": "XnmmoMz7gSQQ"
    },
    {
      "cell_type": "code",
      "execution_count": null,
      "metadata": {
        "id": "BDw8iVsAQ3fO"
      },
      "outputs": [],
      "source": [
        "y_pred = [1 if x > 0.5 else 0 for x in pred]"
      ],
      "id": "BDw8iVsAQ3fO"
    },
    {
      "cell_type": "code",
      "source": [
        "from sklearn.metrics import classification_report\n",
        "from sklearn.metrics import confusion_matrix\n",
        "\n",
        "print(\"\\nClasification report:\\n\", classification_report(y_test, y_pred))"
      ],
      "metadata": {
        "colab": {
          "base_uri": "https://localhost:8080/"
        },
        "id": "6yiT_gvzpkqP",
        "outputId": "94c7c7d7-d9f5-4a0e-bd45-5866687264c0"
      },
      "id": "6yiT_gvzpkqP",
      "execution_count": null,
      "outputs": [
        {
          "output_type": "stream",
          "name": "stdout",
          "text": [
            "\n",
            "Clasification report:\n",
            "               precision    recall  f1-score   support\n",
            "\n",
            "           0       0.85      0.82      0.84       131\n",
            "           1       0.95      0.96      0.95       453\n",
            "\n",
            "    accuracy                           0.93       584\n",
            "   macro avg       0.90      0.89      0.90       584\n",
            "weighted avg       0.93      0.93      0.93       584\n",
            "\n",
            "Confusion matrix:\n",
            " [[108  23]\n",
            " [ 19 434]]\n"
          ]
        }
      ]
    },
    {
      "cell_type": "code",
      "source": [
        "# Matriz de confusão com heatmap\n",
        "cnn_confusion_matrix = pd.crosstab(np.reshape(y_test, len(y_pred)), np.reshape(y_pred, len(y_pred)), rownames=['Valor Atual'], colnames=['Valor Predito'])\n",
        "\n",
        "sn.heatmap(cnn_confusion_matrix, annot=True, fmt=\"d\", cmap='inferno', linewidths=.5)\n",
        "plt.show()"
      ],
      "metadata": {
        "colab": {
          "base_uri": "https://localhost:8080/",
          "height": 279
        },
        "id": "fQRdElZgcyPG",
        "outputId": "d77186ae-ddb8-49b3-9d1d-d38e24e4221e"
      },
      "id": "fQRdElZgcyPG",
      "execution_count": null,
      "outputs": [
        {
          "output_type": "display_data",
          "data": {
            "text/plain": [
              "<Figure size 432x288 with 2 Axes>"
            ],
            "image/png": "[encoded data removed]"
          },
          "metadata": {
            "needs_background": "light"
          }
        }
      ]
    }
  ],
  "metadata": {
    "accelerator": "GPU",
    "colab": {
      "collapsed_sections": [],
      "name": "analise_sentimentos_bert.ipynb",
      "provenance": []
    },
    "kernelspec": {
      "display_name": "Python 3 (ipykernel)",
      "language": "python",
      "name": "python3"
    },
    "language_info": {
      "codemirror_mode": {
        "name": "ipython",
        "version": 3
      },
      "file_extension": ".py",
      "mimetype": "text/x-python",
      "name": "python",
      "nbconvert_exporter": "python",
      "pygments_lexer": "ipython3",
      "version": "3.8.12"
    },
    "varInspector": {
      "cols": {
        "lenName": 16,
        "lenType": 16,
        "lenVar": 40
      },
      "kernels_config": {
        "python": {
          "delete_cmd_postfix": "",
          "delete_cmd_prefix": "del ",
          "library": "var_list.py",
          "varRefreshCmd": "print(var_dic_list())"
        },
        "r": {
          "delete_cmd_postfix": ") ",
          "delete_cmd_prefix": "rm(",
          "library": "var_list.r",
          "varRefreshCmd": "cat(var_dic_list()) "
        }
      },
      "types_to_exclude": [
        "module",
        "function",
        "builtin_function_or_method",
        "instance",
        "_Feature"
      ],
      "window_display": false
    },
    "widgets": {
      "application/vnd.jupyter.widget-state+json": {
        "7b66672251394d2cadbf7898acf51626": {
          "model_module": "@jupyter-widgets/controls",
          "model_name": "HBoxModel",
          "model_module_version": "1.5.0",
          "state": {
            "_dom_classes": [],
            "_model_module": "@jupyter-widgets/controls",
            "_model_module_version": "1.5.0",
            "_model_name": "HBoxModel",
            "_view_count": null,
            "_view_module": "@jupyter-widgets/controls",
            "_view_module_version": "1.5.0",
            "_view_name": "HBoxView",
            "box_style": "",
            "children": [
              "IPY_MODEL_86d616cde5fc449b8be05018d3087eb1",
              "IPY_MODEL_08c914a0b5334c85ab76641b91086a89",
              "IPY_MODEL_0eab87ab52884793b4bb4560adde7a8b"
            ],
            "layout": "IPY_MODEL_175f98d89e334d34b144dfcc25cd27e8"
          }
        },
        "86d616cde5fc449b8be05018d3087eb1": {
          "model_module": "@jupyter-widgets/controls",
          "model_name": "HTMLModel",
          "model_module_version": "1.5.0",
          "state": {
            "_dom_classes": [],
            "_model_module": "@jupyter-widgets/controls",
            "_model_module_version": "1.5.0",
            "_model_name": "HTMLModel",
            "_view_count": null,
            "_view_module": "@jupyter-widgets/controls",
            "_view_module_version": "1.5.0",
            "_view_name": "HTMLView",
            "description": "",
            "description_tooltip": null,
            "layout": "IPY_MODEL_bddb98cf4d2a454b8bf6c3a0049d1419",
            "placeholder": "​",
            "style": "IPY_MODEL_f6c5ab2b37a1448fa8a7b32f9e090586",
            "value": "100%"
          }
        },
        "08c914a0b5334c85ab76641b91086a89": {
          "model_module": "@jupyter-widgets/controls",
          "model_name": "FloatProgressModel",
          "model_module_version": "1.5.0",
          "state": {
            "_dom_classes": [],
            "_model_module": "@jupyter-widgets/controls",
            "_model_module_version": "1.5.0",
            "_model_name": "FloatProgressModel",
            "_view_count": null,
            "_view_module": "@jupyter-widgets/controls",
            "_view_module_version": "1.5.0",
            "_view_name": "ProgressView",
            "bar_style": "success",
            "description": "",
            "description_tooltip": null,
            "layout": "IPY_MODEL_f144939f803040cfa05ddc6695a8e364",
            "max": 3,
            "min": 0,
            "orientation": "horizontal",
            "style": "IPY_MODEL_5b0ec691e93642cb887049f6d92c35bb",
            "value": 3
          }
        },
        "0eab87ab52884793b4bb4560adde7a8b": {
          "model_module": "@jupyter-widgets/controls",
          "model_name": "HTMLModel",
          "model_module_version": "1.5.0",
          "state": {
            "_dom_classes": [],
            "_model_module": "@jupyter-widgets/controls",
            "_model_module_version": "1.5.0",
            "_model_name": "HTMLModel",
            "_view_count": null,
            "_view_module": "@jupyter-widgets/controls",
            "_view_module_version": "1.5.0",
            "_view_name": "HTMLView",
            "description": "",
            "description_tooltip": null,
            "layout": "IPY_MODEL_fc8a586639b44d659224b41014e7214d",
            "placeholder": "​",
            "style": "IPY_MODEL_98bcf280383346eabbd8169aa9384b25",
            "value": " 3/3 [07:04&lt;00:00, 153.71s/it]"
          }
        },
        "175f98d89e334d34b144dfcc25cd27e8": {
          "model_module": "@jupyter-widgets/base",
          "model_name": "LayoutModel",
          "model_module_version": "1.2.0",
          "state": {
            "_model_module": "@jupyter-widgets/base",
            "_model_module_version": "1.2.0",
            "_model_name": "LayoutModel",
            "_view_count": null,
            "_view_module": "@jupyter-widgets/base",
            "_view_module_version": "1.2.0",
            "_view_name": "LayoutView",
            "align_content": null,
            "align_items": null,
            "align_self": null,
            "border": null,
            "bottom": null,
            "display": null,
            "flex": null,
            "flex_flow": null,
            "grid_area": null,
            "grid_auto_columns": null,
            "grid_auto_flow": null,
            "grid_auto_rows": null,
            "grid_column": null,
            "grid_gap": null,
            "grid_row": null,
            "grid_template_areas": null,
            "grid_template_columns": null,
            "grid_template_rows": null,
            "height": null,
            "justify_content": null,
            "justify_items": null,
            "left": null,
            "margin": null,
            "max_height": null,
            "max_width": null,
            "min_height": null,
            "min_width": null,
            "object_fit": null,
            "object_position": null,
            "order": null,
            "overflow": null,
            "overflow_x": null,
            "overflow_y": null,
            "padding": null,
            "right": null,
            "top": null,
            "visibility": null,
            "width": null
          }
        },
        "bddb98cf4d2a454b8bf6c3a0049d1419": {
          "model_module": "@jupyter-widgets/base",
          "model_name": "LayoutModel",
          "model_module_version": "1.2.0",
          "state": {
            "_model_module": "@jupyter-widgets/base",
            "_model_module_version": "1.2.0",
            "_model_name": "LayoutModel",
            "_view_count": null,
            "_view_module": "@jupyter-widgets/base",
            "_view_module_version": "1.2.0",
            "_view_name": "LayoutView",
            "align_content": null,
            "align_items": null,
            "align_self": null,
            "border": null,
            "bottom": null,
            "display": null,
            "flex": null,
            "flex_flow": null,
            "grid_area": null,
            "grid_auto_columns": null,
            "grid_auto_flow": null,
            "grid_auto_rows": null,
            "grid_column": null,
            "grid_gap": null,
            "grid_row": null,
            "grid_template_areas": null,
            "grid_template_columns": null,
            "grid_template_rows": null,
            "height": null,
            "justify_content": null,
            "justify_items": null,
            "left": null,
            "margin": null,
            "max_height": null,
            "max_width": null,
            "min_height": null,
            "min_width": null,
            "object_fit": null,
            "object_position": null,
            "order": null,
            "overflow": null,
            "overflow_x": null,
            "overflow_y": null,
            "padding": null,
            "right": null,
            "top": null,
            "visibility": null,
            "width": null
          }
        },
        "f6c5ab2b37a1448fa8a7b32f9e090586": {
          "model_module": "@jupyter-widgets/controls",
          "model_name": "DescriptionStyleModel",
          "model_module_version": "1.5.0",
          "state": {
            "_model_module": "@jupyter-widgets/controls",
            "_model_module_version": "1.5.0",
            "_model_name": "DescriptionStyleModel",
            "_view_count": null,
            "_view_module": "@jupyter-widgets/base",
            "_view_module_version": "1.2.0",
            "_view_name": "StyleView",
            "description_width": ""
          }
        },
        "f144939f803040cfa05ddc6695a8e364": {
          "model_module": "@jupyter-widgets/base",
          "model_name": "LayoutModel",
          "model_module_version": "1.2.0",
          "state": {
            "_model_module": "@jupyter-widgets/base",
            "_model_module_version": "1.2.0",
            "_model_name": "LayoutModel",
            "_view_count": null,
            "_view_module": "@jupyter-widgets/base",
            "_view_module_version": "1.2.0",
            "_view_name": "LayoutView",
            "align_content": null,
            "align_items": null,
            "align_self": null,
            "border": null,
            "bottom": null,
            "display": null,
            "flex": null,
            "flex_flow": null,
            "grid_area": null,
            "grid_auto_columns": null,
            "grid_auto_flow": null,
            "grid_auto_rows": null,
            "grid_column": null,
            "grid_gap": null,
            "grid_row": null,
            "grid_template_areas": null,
            "grid_template_columns": null,
            "grid_template_rows": null,
            "height": null,
            "justify_content": null,
            "justify_items": null,
            "left": null,
            "margin": null,
            "max_height": null,
            "max_width": null,
            "min_height": null,
            "min_width": null,
            "object_fit": null,
            "object_position": null,
            "order": null,
            "overflow": null,
            "overflow_x": null,
            "overflow_y": null,
            "padding": null,
            "right": null,
            "top": null,
            "visibility": null,
            "width": null
          }
        },
        "5b0ec691e93642cb887049f6d92c35bb": {
          "model_module": "@jupyter-widgets/controls",
          "model_name": "ProgressStyleModel",
          "model_module_version": "1.5.0",
          "state": {
            "_model_module": "@jupyter-widgets/controls",
            "_model_module_version": "1.5.0",
            "_model_name": "ProgressStyleModel",
            "_view_count": null,
            "_view_module": "@jupyter-widgets/base",
            "_view_module_version": "1.2.0",
            "_view_name": "StyleView",
            "bar_color": null,
            "description_width": ""
          }
        },
        "fc8a586639b44d659224b41014e7214d": {
          "model_module": "@jupyter-widgets/base",
          "model_name": "LayoutModel",
          "model_module_version": "1.2.0",
          "state": {
            "_model_module": "@jupyter-widgets/base",
            "_model_module_version": "1.2.0",
            "_model_name": "LayoutModel",
            "_view_count": null,
            "_view_module": "@jupyter-widgets/base",
            "_view_module_version": "1.2.0",
            "_view_name": "LayoutView",
            "align_content": null,
            "align_items": null,
            "align_self": null,
            "border": null,
            "bottom": null,
            "display": null,
            "flex": null,
            "flex_flow": null,
            "grid_area": null,
            "grid_auto_columns": null,
            "grid_auto_flow": null,
            "grid_auto_rows": null,
            "grid_column": null,
            "grid_gap": null,
            "grid_row": null,
            "grid_template_areas": null,
            "grid_template_columns": null,
            "grid_template_rows": null,
            "height": null,
            "justify_content": null,
            "justify_items": null,
            "left": null,
            "margin": null,
            "max_height": null,
            "max_width": null,
            "min_height": null,
            "min_width": null,
            "object_fit": null,
            "object_position": null,
            "order": null,
            "overflow": null,
            "overflow_x": null,
            "overflow_y": null,
            "padding": null,
            "right": null,
            "top": null,
            "visibility": null,
            "width": null
          }
        },
        "98bcf280383346eabbd8169aa9384b25": {
          "model_module": "@jupyter-widgets/controls",
          "model_name": "DescriptionStyleModel",
          "model_module_version": "1.5.0",
          "state": {
            "_model_module": "@jupyter-widgets/controls",
            "_model_module_version": "1.5.0",
            "_model_name": "DescriptionStyleModel",
            "_view_count": null,
            "_view_module": "@jupyter-widgets/base",
            "_view_module_version": "1.2.0",
            "_view_name": "StyleView",
            "description_width": ""
          }
        },
        "c75bca9cef1746628b051c2cdcaa7893": {
          "model_module": "@jupyter-widgets/controls",
          "model_name": "HBoxModel",
          "model_module_version": "1.5.0",
          "state": {
            "_dom_classes": [],
            "_model_module": "@jupyter-widgets/controls",
            "_model_module_version": "1.5.0",
            "_model_name": "HBoxModel",
            "_view_count": null,
            "_view_module": "@jupyter-widgets/controls",
            "_view_module_version": "1.5.0",
            "_view_name": "HBoxView",
            "box_style": "",
            "children": [
              "IPY_MODEL_4404b25e84184130aadb62d4904f71cd",
              "IPY_MODEL_a7e58270afee4cd7aac2252f18408084",
              "IPY_MODEL_f3df13acef6a4e41b5a0cd34963e216d"
            ],
            "layout": "IPY_MODEL_51f0e8534a604c3db6a69c57badbcb2e"
          }
        },
        "4404b25e84184130aadb62d4904f71cd": {
          "model_module": "@jupyter-widgets/controls",
          "model_name": "HTMLModel",
          "model_module_version": "1.5.0",
          "state": {
            "_dom_classes": [],
            "_model_module": "@jupyter-widgets/controls",
            "_model_module_version": "1.5.0",
            "_model_name": "HTMLModel",
            "_view_count": null,
            "_view_module": "@jupyter-widgets/controls",
            "_view_module_version": "1.5.0",
            "_view_name": "HTMLView",
            "description": "",
            "description_tooltip": null,
            "layout": "IPY_MODEL_2c82dbc115de4339967386788298aca4",
            "placeholder": "​",
            "style": "IPY_MODEL_f81c3b8f00da4248bd9242fed59200b8",
            "value": "Época 0: 100%"
          }
        },
        "a7e58270afee4cd7aac2252f18408084": {
          "model_module": "@jupyter-widgets/controls",
          "model_name": "FloatProgressModel",
          "model_module_version": "1.5.0",
          "state": {
            "_dom_classes": [],
            "_model_module": "@jupyter-widgets/controls",
            "_model_module_version": "1.5.0",
            "_model_name": "FloatProgressModel",
            "_view_count": null,
            "_view_module": "@jupyter-widgets/controls",
            "_view_module_version": "1.5.0",
            "_view_name": "ProgressView",
            "bar_style": "success",
            "description": "",
            "description_tooltip": null,
            "layout": "IPY_MODEL_727e292d48bf482a890c06f73dff2346",
            "max": 525,
            "min": 0,
            "orientation": "horizontal",
            "style": "IPY_MODEL_6299c13a17cd476b8273f3c3d3bd7480",
            "value": 525
          }
        },
        "f3df13acef6a4e41b5a0cd34963e216d": {
          "model_module": "@jupyter-widgets/controls",
          "model_name": "HTMLModel",
          "model_module_version": "1.5.0",
          "state": {
            "_dom_classes": [],
            "_model_module": "@jupyter-widgets/controls",
            "_model_module_version": "1.5.0",
            "_model_name": "HTMLModel",
            "_view_count": null,
            "_view_module": "@jupyter-widgets/controls",
            "_view_module_version": "1.5.0",
            "_view_name": "HTMLView",
            "description": "",
            "description_tooltip": null,
            "layout": "IPY_MODEL_6b24590c07624df08e089cf0790873ea",
            "placeholder": "​",
            "style": "IPY_MODEL_cb0ca134316440d2b7b3cf4adde3b1ee",
            "value": " 525/525 [01:30&lt;00:00,  9.43it/s, loss=0.697]"
          }
        },
        "51f0e8534a604c3db6a69c57badbcb2e": {
          "model_module": "@jupyter-widgets/base",
          "model_name": "LayoutModel",
          "model_module_version": "1.2.0",
          "state": {
            "_model_module": "@jupyter-widgets/base",
            "_model_module_version": "1.2.0",
            "_model_name": "LayoutModel",
            "_view_count": null,
            "_view_module": "@jupyter-widgets/base",
            "_view_module_version": "1.2.0",
            "_view_name": "LayoutView",
            "align_content": null,
            "align_items": null,
            "align_self": null,
            "border": null,
            "bottom": null,
            "display": null,
            "flex": null,
            "flex_flow": null,
            "grid_area": null,
            "grid_auto_columns": null,
            "grid_auto_flow": null,
            "grid_auto_rows": null,
            "grid_column": null,
            "grid_gap": null,
            "grid_row": null,
            "grid_template_areas": null,
            "grid_template_columns": null,
            "grid_template_rows": null,
            "height": null,
            "justify_content": null,
            "justify_items": null,
            "left": null,
            "margin": null,
            "max_height": null,
            "max_width": null,
            "min_height": null,
            "min_width": null,
            "object_fit": null,
            "object_position": null,
            "order": null,
            "overflow": null,
            "overflow_x": null,
            "overflow_y": null,
            "padding": null,
            "right": null,
            "top": null,
            "visibility": null,
            "width": null
          }
        },
        "2c82dbc115de4339967386788298aca4": {
          "model_module": "@jupyter-widgets/base",
          "model_name": "LayoutModel",
          "model_module_version": "1.2.0",
          "state": {
            "_model_module": "@jupyter-widgets/base",
            "_model_module_version": "1.2.0",
            "_model_name": "LayoutModel",
            "_view_count": null,
            "_view_module": "@jupyter-widgets/base",
            "_view_module_version": "1.2.0",
            "_view_name": "LayoutView",
            "align_content": null,
            "align_items": null,
            "align_self": null,
            "border": null,
            "bottom": null,
            "display": null,
            "flex": null,
            "flex_flow": null,
            "grid_area": null,
            "grid_auto_columns": null,
            "grid_auto_flow": null,
            "grid_auto_rows": null,
            "grid_column": null,
            "grid_gap": null,
            "grid_row": null,
            "grid_template_areas": null,
            "grid_template_columns": null,
            "grid_template_rows": null,
            "height": null,
            "justify_content": null,
            "justify_items": null,
            "left": null,
            "margin": null,
            "max_height": null,
            "max_width": null,
            "min_height": null,
            "min_width": null,
            "object_fit": null,
            "object_position": null,
            "order": null,
            "overflow": null,
            "overflow_x": null,
            "overflow_y": null,
            "padding": null,
            "right": null,
            "top": null,
            "visibility": null,
            "width": null
          }
        },
        "f81c3b8f00da4248bd9242fed59200b8": {
          "model_module": "@jupyter-widgets/controls",
          "model_name": "DescriptionStyleModel",
          "model_module_version": "1.5.0",
          "state": {
            "_model_module": "@jupyter-widgets/controls",
            "_model_module_version": "1.5.0",
            "_model_name": "DescriptionStyleModel",
            "_view_count": null,
            "_view_module": "@jupyter-widgets/base",
            "_view_module_version": "1.2.0",
            "_view_name": "StyleView",
            "description_width": ""
          }
        },
        "727e292d48bf482a890c06f73dff2346": {
          "model_module": "@jupyter-widgets/base",
          "model_name": "LayoutModel",
          "model_module_version": "1.2.0",
          "state": {
            "_model_module": "@jupyter-widgets/base",
            "_model_module_version": "1.2.0",
            "_model_name": "LayoutModel",
            "_view_count": null,
            "_view_module": "@jupyter-widgets/base",
            "_view_module_version": "1.2.0",
            "_view_name": "LayoutView",
            "align_content": null,
            "align_items": null,
            "align_self": null,
            "border": null,
            "bottom": null,
            "display": null,
            "flex": null,
            "flex_flow": null,
            "grid_area": null,
            "grid_auto_columns": null,
            "grid_auto_flow": null,
            "grid_auto_rows": null,
            "grid_column": null,
            "grid_gap": null,
            "grid_row": null,
            "grid_template_areas": null,
            "grid_template_columns": null,
            "grid_template_rows": null,
            "height": null,
            "justify_content": null,
            "justify_items": null,
            "left": null,
            "margin": null,
            "max_height": null,
            "max_width": null,
            "min_height": null,
            "min_width": null,
            "object_fit": null,
            "object_position": null,
            "order": null,
            "overflow": null,
            "overflow_x": null,
            "overflow_y": null,
            "padding": null,
            "right": null,
            "top": null,
            "visibility": null,
            "width": null
          }
        },
        "6299c13a17cd476b8273f3c3d3bd7480": {
          "model_module": "@jupyter-widgets/controls",
          "model_name": "ProgressStyleModel",
          "model_module_version": "1.5.0",
          "state": {
            "_model_module": "@jupyter-widgets/controls",
            "_model_module_version": "1.5.0",
            "_model_name": "ProgressStyleModel",
            "_view_count": null,
            "_view_module": "@jupyter-widgets/base",
            "_view_module_version": "1.2.0",
            "_view_name": "StyleView",
            "bar_color": null,
            "description_width": ""
          }
        },
        "6b24590c07624df08e089cf0790873ea": {
          "model_module": "@jupyter-widgets/base",
          "model_name": "LayoutModel",
          "model_module_version": "1.2.0",
          "state": {
            "_model_module": "@jupyter-widgets/base",
            "_model_module_version": "1.2.0",
            "_model_name": "LayoutModel",
            "_view_count": null,
            "_view_module": "@jupyter-widgets/base",
            "_view_module_version": "1.2.0",
            "_view_name": "LayoutView",
            "align_content": null,
            "align_items": null,
            "align_self": null,
            "border": null,
            "bottom": null,
            "display": null,
            "flex": null,
            "flex_flow": null,
            "grid_area": null,
            "grid_auto_columns": null,
            "grid_auto_flow": null,
            "grid_auto_rows": null,
            "grid_column": null,
            "grid_gap": null,
            "grid_row": null,
            "grid_template_areas": null,
            "grid_template_columns": null,
            "grid_template_rows": null,
            "height": null,
            "justify_content": null,
            "justify_items": null,
            "left": null,
            "margin": null,
            "max_height": null,
            "max_width": null,
            "min_height": null,
            "min_width": null,
            "object_fit": null,
            "object_position": null,
            "order": null,
            "overflow": null,
            "overflow_x": null,
            "overflow_y": null,
            "padding": null,
            "right": null,
            "top": null,
            "visibility": null,
            "width": null
          }
        },
        "cb0ca134316440d2b7b3cf4adde3b1ee": {
          "model_module": "@jupyter-widgets/controls",
          "model_name": "DescriptionStyleModel",
          "model_module_version": "1.5.0",
          "state": {
            "_model_module": "@jupyter-widgets/controls",
            "_model_module_version": "1.5.0",
            "_model_name": "DescriptionStyleModel",
            "_view_count": null,
            "_view_module": "@jupyter-widgets/base",
            "_view_module_version": "1.2.0",
            "_view_name": "StyleView",
            "description_width": ""
          }
        },
        "87cb6ae0b9a544399fdd04cc03c8ae28": {
          "model_module": "@jupyter-widgets/controls",
          "model_name": "HBoxModel",
          "model_module_version": "1.5.0",
          "state": {
            "_dom_classes": [],
            "_model_module": "@jupyter-widgets/controls",
            "_model_module_version": "1.5.0",
            "_model_name": "HBoxModel",
            "_view_count": null,
            "_view_module": "@jupyter-widgets/controls",
            "_view_module_version": "1.5.0",
            "_view_name": "HBoxView",
            "box_style": "",
            "children": [
              "IPY_MODEL_a8418659a8f64465b308d112a256ad96",
              "IPY_MODEL_4139094262ed4fd0a593210961f896fc",
              "IPY_MODEL_cf7617f4e25a44bf8957f4ce0b7eb402"
            ],
            "layout": "IPY_MODEL_ff773bb686f54ff892ece1ab44accf0d"
          }
        },
        "a8418659a8f64465b308d112a256ad96": {
          "model_module": "@jupyter-widgets/controls",
          "model_name": "HTMLModel",
          "model_module_version": "1.5.0",
          "state": {
            "_dom_classes": [],
            "_model_module": "@jupyter-widgets/controls",
            "_model_module_version": "1.5.0",
            "_model_name": "HTMLModel",
            "_view_count": null,
            "_view_module": "@jupyter-widgets/controls",
            "_view_module_version": "1.5.0",
            "_view_name": "HTMLView",
            "description": "",
            "description_tooltip": null,
            "layout": "IPY_MODEL_8ae7d42ef1f94319af152363bc7a4a87",
            "placeholder": "​",
            "style": "IPY_MODEL_689287a10226424ca4048058e1c39ae7",
            "value": "Época 1: 100%"
          }
        },
        "4139094262ed4fd0a593210961f896fc": {
          "model_module": "@jupyter-widgets/controls",
          "model_name": "FloatProgressModel",
          "model_module_version": "1.5.0",
          "state": {
            "_dom_classes": [],
            "_model_module": "@jupyter-widgets/controls",
            "_model_module_version": "1.5.0",
            "_model_name": "FloatProgressModel",
            "_view_count": null,
            "_view_module": "@jupyter-widgets/controls",
            "_view_module_version": "1.5.0",
            "_view_name": "ProgressView",
            "bar_style": "success",
            "description": "",
            "description_tooltip": null,
            "layout": "IPY_MODEL_229d40787fa5417b841f08260d9bf16a",
            "max": 525,
            "min": 0,
            "orientation": "horizontal",
            "style": "IPY_MODEL_28626edc8d294f6bb1eb0b938f18417a",
            "value": 525
          }
        },
        "cf7617f4e25a44bf8957f4ce0b7eb402": {
          "model_module": "@jupyter-widgets/controls",
          "model_name": "HTMLModel",
          "model_module_version": "1.5.0",
          "state": {
            "_dom_classes": [],
            "_model_module": "@jupyter-widgets/controls",
            "_model_module_version": "1.5.0",
            "_model_name": "HTMLModel",
            "_view_count": null,
            "_view_module": "@jupyter-widgets/controls",
            "_view_module_version": "1.5.0",
            "_view_name": "HTMLView",
            "description": "",
            "description_tooltip": null,
            "layout": "IPY_MODEL_92846c5628ee4462b7887cd38d59bb0a",
            "placeholder": "​",
            "style": "IPY_MODEL_46b3f7039435483fb460ef4859162e5a",
            "value": " 525/525 [02:19&lt;00:00,  2.98it/s, loss=0.295]"
          }
        },
        "ff773bb686f54ff892ece1ab44accf0d": {
          "model_module": "@jupyter-widgets/base",
          "model_name": "LayoutModel",
          "model_module_version": "1.2.0",
          "state": {
            "_model_module": "@jupyter-widgets/base",
            "_model_module_version": "1.2.0",
            "_model_name": "LayoutModel",
            "_view_count": null,
            "_view_module": "@jupyter-widgets/base",
            "_view_module_version": "1.2.0",
            "_view_name": "LayoutView",
            "align_content": null,
            "align_items": null,
            "align_self": null,
            "border": null,
            "bottom": null,
            "display": null,
            "flex": null,
            "flex_flow": null,
            "grid_area": null,
            "grid_auto_columns": null,
            "grid_auto_flow": null,
            "grid_auto_rows": null,
            "grid_column": null,
            "grid_gap": null,
            "grid_row": null,
            "grid_template_areas": null,
            "grid_template_columns": null,
            "grid_template_rows": null,
            "height": null,
            "justify_content": null,
            "justify_items": null,
            "left": null,
            "margin": null,
            "max_height": null,
            "max_width": null,
            "min_height": null,
            "min_width": null,
            "object_fit": null,
            "object_position": null,
            "order": null,
            "overflow": null,
            "overflow_x": null,
            "overflow_y": null,
            "padding": null,
            "right": null,
            "top": null,
            "visibility": null,
            "width": null
          }
        },
        "8ae7d42ef1f94319af152363bc7a4a87": {
          "model_module": "@jupyter-widgets/base",
          "model_name": "LayoutModel",
          "model_module_version": "1.2.0",
          "state": {
            "_model_module": "@jupyter-widgets/base",
            "_model_module_version": "1.2.0",
            "_model_name": "LayoutModel",
            "_view_count": null,
            "_view_module": "@jupyter-widgets/base",
            "_view_module_version": "1.2.0",
            "_view_name": "LayoutView",
            "align_content": null,
            "align_items": null,
            "align_self": null,
            "border": null,
            "bottom": null,
            "display": null,
            "flex": null,
            "flex_flow": null,
            "grid_area": null,
            "grid_auto_columns": null,
            "grid_auto_flow": null,
            "grid_auto_rows": null,
            "grid_column": null,
            "grid_gap": null,
            "grid_row": null,
            "grid_template_areas": null,
            "grid_template_columns": null,
            "grid_template_rows": null,
            "height": null,
            "justify_content": null,
            "justify_items": null,
            "left": null,
            "margin": null,
            "max_height": null,
            "max_width": null,
            "min_height": null,
            "min_width": null,
            "object_fit": null,
            "object_position": null,
            "order": null,
            "overflow": null,
            "overflow_x": null,
            "overflow_y": null,
            "padding": null,
            "right": null,
            "top": null,
            "visibility": null,
            "width": null
          }
        },
        "689287a10226424ca4048058e1c39ae7": {
          "model_module": "@jupyter-widgets/controls",
          "model_name": "DescriptionStyleModel",
          "model_module_version": "1.5.0",
          "state": {
            "_model_module": "@jupyter-widgets/controls",
            "_model_module_version": "1.5.0",
            "_model_name": "DescriptionStyleModel",
            "_view_count": null,
            "_view_module": "@jupyter-widgets/base",
            "_view_module_version": "1.2.0",
            "_view_name": "StyleView",
            "description_width": ""
          }
        },
        "229d40787fa5417b841f08260d9bf16a": {
          "model_module": "@jupyter-widgets/base",
          "model_name": "LayoutModel",
          "model_module_version": "1.2.0",
          "state": {
            "_model_module": "@jupyter-widgets/base",
            "_model_module_version": "1.2.0",
            "_model_name": "LayoutModel",
            "_view_count": null,
            "_view_module": "@jupyter-widgets/base",
            "_view_module_version": "1.2.0",
            "_view_name": "LayoutView",
            "align_content": null,
            "align_items": null,
            "align_self": null,
            "border": null,
            "bottom": null,
            "display": null,
            "flex": null,
            "flex_flow": null,
            "grid_area": null,
            "grid_auto_columns": null,
            "grid_auto_flow": null,
            "grid_auto_rows": null,
            "grid_column": null,
            "grid_gap": null,
            "grid_row": null,
            "grid_template_areas": null,
            "grid_template_columns": null,
            "grid_template_rows": null,
            "height": null,
            "justify_content": null,
            "justify_items": null,
            "left": null,
            "margin": null,
            "max_height": null,
            "max_width": null,
            "min_height": null,
            "min_width": null,
            "object_fit": null,
            "object_position": null,
            "order": null,
            "overflow": null,
            "overflow_x": null,
            "overflow_y": null,
            "padding": null,
            "right": null,
            "top": null,
            "visibility": null,
            "width": null
          }
        },
        "28626edc8d294f6bb1eb0b938f18417a": {
          "model_module": "@jupyter-widgets/controls",
          "model_name": "ProgressStyleModel",
          "model_module_version": "1.5.0",
          "state": {
            "_model_module": "@jupyter-widgets/controls",
            "_model_module_version": "1.5.0",
            "_model_name": "ProgressStyleModel",
            "_view_count": null,
            "_view_module": "@jupyter-widgets/base",
            "_view_module_version": "1.2.0",
            "_view_name": "StyleView",
            "bar_color": null,
            "description_width": ""
          }
        },
        "92846c5628ee4462b7887cd38d59bb0a": {
          "model_module": "@jupyter-widgets/base",
          "model_name": "LayoutModel",
          "model_module_version": "1.2.0",
          "state": {
            "_model_module": "@jupyter-widgets/base",
            "_model_module_version": "1.2.0",
            "_model_name": "LayoutModel",
            "_view_count": null,
            "_view_module": "@jupyter-widgets/base",
            "_view_module_version": "1.2.0",
            "_view_name": "LayoutView",
            "align_content": null,
            "align_items": null,
            "align_self": null,
            "border": null,
            "bottom": null,
            "display": null,
            "flex": null,
            "flex_flow": null,
            "grid_area": null,
            "grid_auto_columns": null,
            "grid_auto_flow": null,
            "grid_auto_rows": null,
            "grid_column": null,
            "grid_gap": null,
            "grid_row": null,
            "grid_template_areas": null,
            "grid_template_columns": null,
            "grid_template_rows": null,
            "height": null,
            "justify_content": null,
            "justify_items": null,
            "left": null,
            "margin": null,
            "max_height": null,
            "max_width": null,
            "min_height": null,
            "min_width": null,
            "object_fit": null,
            "object_position": null,
            "order": null,
            "overflow": null,
            "overflow_x": null,
            "overflow_y": null,
            "padding": null,
            "right": null,
            "top": null,
            "visibility": null,
            "width": null
          }
        },
        "46b3f7039435483fb460ef4859162e5a": {
          "model_module": "@jupyter-widgets/controls",
          "model_name": "DescriptionStyleModel",
          "model_module_version": "1.5.0",
          "state": {
            "_model_module": "@jupyter-widgets/controls",
            "_model_module_version": "1.5.0",
            "_model_name": "DescriptionStyleModel",
            "_view_count": null,
            "_view_module": "@jupyter-widgets/base",
            "_view_module_version": "1.2.0",
            "_view_name": "StyleView",
            "description_width": ""
          }
        },
        "fe07f7cc134f4df1a246713c15691a1c": {
          "model_module": "@jupyter-widgets/controls",
          "model_name": "HBoxModel",
          "model_module_version": "1.5.0",
          "state": {
            "_dom_classes": [],
            "_model_module": "@jupyter-widgets/controls",
            "_model_module_version": "1.5.0",
            "_model_name": "HBoxModel",
            "_view_count": null,
            "_view_module": "@jupyter-widgets/controls",
            "_view_module_version": "1.5.0",
            "_view_name": "HBoxView",
            "box_style": "",
            "children": [
              "IPY_MODEL_8273bc1311584ac6874cbe4cbeeec42a",
              "IPY_MODEL_b3ff2f42cf274e168a7e223d809f8434",
              "IPY_MODEL_29e0094b5343467da74c373f0cf490a0"
            ],
            "layout": "IPY_MODEL_fffd1865e82343d7b6c29cac6ab3a3c9"
          }
        },
        "8273bc1311584ac6874cbe4cbeeec42a": {
          "model_module": "@jupyter-widgets/controls",
          "model_name": "HTMLModel",
          "model_module_version": "1.5.0",
          "state": {
            "_dom_classes": [],
            "_model_module": "@jupyter-widgets/controls",
            "_model_module_version": "1.5.0",
            "_model_name": "HTMLModel",
            "_view_count": null,
            "_view_module": "@jupyter-widgets/controls",
            "_view_module_version": "1.5.0",
            "_view_name": "HTMLView",
            "description": "",
            "description_tooltip": null,
            "layout": "IPY_MODEL_5fdf72aefb3e4fcabfa1912889b149d5",
            "placeholder": "​",
            "style": "IPY_MODEL_9cc213c896c64c5486c45efde98f6439",
            "value": "Época 2: 100%"
          }
        },
        "b3ff2f42cf274e168a7e223d809f8434": {
          "model_module": "@jupyter-widgets/controls",
          "model_name": "FloatProgressModel",
          "model_module_version": "1.5.0",
          "state": {
            "_dom_classes": [],
            "_model_module": "@jupyter-widgets/controls",
            "_model_module_version": "1.5.0",
            "_model_name": "FloatProgressModel",
            "_view_count": null,
            "_view_module": "@jupyter-widgets/controls",
            "_view_module_version": "1.5.0",
            "_view_name": "ProgressView",
            "bar_style": "success",
            "description": "",
            "description_tooltip": null,
            "layout": "IPY_MODEL_56b58651e34d4336a4a59edba0afb115",
            "max": 525,
            "min": 0,
            "orientation": "horizontal",
            "style": "IPY_MODEL_cc4f7e1b23aa49aea2cb9707f11d319d",
            "value": 525
          }
        },
        "29e0094b5343467da74c373f0cf490a0": {
          "model_module": "@jupyter-widgets/controls",
          "model_name": "HTMLModel",
          "model_module_version": "1.5.0",
          "state": {
            "_dom_classes": [],
            "_model_module": "@jupyter-widgets/controls",
            "_model_module_version": "1.5.0",
            "_model_name": "HTMLModel",
            "_view_count": null,
            "_view_module": "@jupyter-widgets/controls",
            "_view_module_version": "1.5.0",
            "_view_name": "HTMLView",
            "description": "",
            "description_tooltip": null,
            "layout": "IPY_MODEL_5f9141888bda418aa999ab290728bd75",
            "placeholder": "​",
            "style": "IPY_MODEL_8262866ba1f249efb564decd5c1ee52c",
            "value": " 525/525 [03:14&lt;00:00,  2.97it/s, loss=0.215]"
          }
        },
        "fffd1865e82343d7b6c29cac6ab3a3c9": {
          "model_module": "@jupyter-widgets/base",
          "model_name": "LayoutModel",
          "model_module_version": "1.2.0",
          "state": {
            "_model_module": "@jupyter-widgets/base",
            "_model_module_version": "1.2.0",
            "_model_name": "LayoutModel",
            "_view_count": null,
            "_view_module": "@jupyter-widgets/base",
            "_view_module_version": "1.2.0",
            "_view_name": "LayoutView",
            "align_content": null,
            "align_items": null,
            "align_self": null,
            "border": null,
            "bottom": null,
            "display": null,
            "flex": null,
            "flex_flow": null,
            "grid_area": null,
            "grid_auto_columns": null,
            "grid_auto_flow": null,
            "grid_auto_rows": null,
            "grid_column": null,
            "grid_gap": null,
            "grid_row": null,
            "grid_template_areas": null,
            "grid_template_columns": null,
            "grid_template_rows": null,
            "height": null,
            "justify_content": null,
            "justify_items": null,
            "left": null,
            "margin": null,
            "max_height": null,
            "max_width": null,
            "min_height": null,
            "min_width": null,
            "object_fit": null,
            "object_position": null,
            "order": null,
            "overflow": null,
            "overflow_x": null,
            "overflow_y": null,
            "padding": null,
            "right": null,
            "top": null,
            "visibility": null,
            "width": null
          }
        },
        "5fdf72aefb3e4fcabfa1912889b149d5": {
          "model_module": "@jupyter-widgets/base",
          "model_name": "LayoutModel",
          "model_module_version": "1.2.0",
          "state": {
            "_model_module": "@jupyter-widgets/base",
            "_model_module_version": "1.2.0",
            "_model_name": "LayoutModel",
            "_view_count": null,
            "_view_module": "@jupyter-widgets/base",
            "_view_module_version": "1.2.0",
            "_view_name": "LayoutView",
            "align_content": null,
            "align_items": null,
            "align_self": null,
            "border": null,
            "bottom": null,
            "display": null,
            "flex": null,
            "flex_flow": null,
            "grid_area": null,
            "grid_auto_columns": null,
            "grid_auto_flow": null,
            "grid_auto_rows": null,
            "grid_column": null,
            "grid_gap": null,
            "grid_row": null,
            "grid_template_areas": null,
            "grid_template_columns": null,
            "grid_template_rows": null,
            "height": null,
            "justify_content": null,
            "justify_items": null,
            "left": null,
            "margin": null,
            "max_height": null,
            "max_width": null,
            "min_height": null,
            "min_width": null,
            "object_fit": null,
            "object_position": null,
            "order": null,
            "overflow": null,
            "overflow_x": null,
            "overflow_y": null,
            "padding": null,
            "right": null,
            "top": null,
            "visibility": null,
            "width": null
          }
        },
        "9cc213c896c64c5486c45efde98f6439": {
          "model_module": "@jupyter-widgets/controls",
          "model_name": "DescriptionStyleModel",
          "model_module_version": "1.5.0",
          "state": {
            "_model_module": "@jupyter-widgets/controls",
            "_model_module_version": "1.5.0",
            "_model_name": "DescriptionStyleModel",
            "_view_count": null,
            "_view_module": "@jupyter-widgets/base",
            "_view_module_version": "1.2.0",
            "_view_name": "StyleView",
            "description_width": ""
          }
        },
        "56b58651e34d4336a4a59edba0afb115": {
          "model_module": "@jupyter-widgets/base",
          "model_name": "LayoutModel",
          "model_module_version": "1.2.0",
          "state": {
            "_model_module": "@jupyter-widgets/base",
            "_model_module_version": "1.2.0",
            "_model_name": "LayoutModel",
            "_view_count": null,
            "_view_module": "@jupyter-widgets/base",
            "_view_module_version": "1.2.0",
            "_view_name": "LayoutView",
            "align_content": null,
            "align_items": null,
            "align_self": null,
            "border": null,
            "bottom": null,
            "display": null,
            "flex": null,
            "flex_flow": null,
            "grid_area": null,
            "grid_auto_columns": null,
            "grid_auto_flow": null,
            "grid_auto_rows": null,
            "grid_column": null,
            "grid_gap": null,
            "grid_row": null,
            "grid_template_areas": null,
            "grid_template_columns": null,
            "grid_template_rows": null,
            "height": null,
            "justify_content": null,
            "justify_items": null,
            "left": null,
            "margin": null,
            "max_height": null,
            "max_width": null,
            "min_height": null,
            "min_width": null,
            "object_fit": null,
            "object_position": null,
            "order": null,
            "overflow": null,
            "overflow_x": null,
            "overflow_y": null,
            "padding": null,
            "right": null,
            "top": null,
            "visibility": null,
            "width": null
          }
        },
        "cc4f7e1b23aa49aea2cb9707f11d319d": {
          "model_module": "@jupyter-widgets/controls",
          "model_name": "ProgressStyleModel",
          "model_module_version": "1.5.0",
          "state": {
            "_model_module": "@jupyter-widgets/controls",
            "_model_module_version": "1.5.0",
            "_model_name": "ProgressStyleModel",
            "_view_count": null,
            "_view_module": "@jupyter-widgets/base",
            "_view_module_version": "1.2.0",
            "_view_name": "StyleView",
            "bar_color": null,
            "description_width": ""
          }
        },
        "5f9141888bda418aa999ab290728bd75": {
          "model_module": "@jupyter-widgets/base",
          "model_name": "LayoutModel",
          "model_module_version": "1.2.0",
          "state": {
            "_model_module": "@jupyter-widgets/base",
            "_model_module_version": "1.2.0",
            "_model_name": "LayoutModel",
            "_view_count": null,
            "_view_module": "@jupyter-widgets/base",
            "_view_module_version": "1.2.0",
            "_view_name": "LayoutView",
            "align_content": null,
            "align_items": null,
            "align_self": null,
            "border": null,
            "bottom": null,
            "display": null,
            "flex": null,
            "flex_flow": null,
            "grid_area": null,
            "grid_auto_columns": null,
            "grid_auto_flow": null,
            "grid_auto_rows": null,
            "grid_column": null,
            "grid_gap": null,
            "grid_row": null,
            "grid_template_areas": null,
            "grid_template_columns": null,
            "grid_template_rows": null,
            "height": null,
            "justify_content": null,
            "justify_items": null,
            "left": null,
            "margin": null,
            "max_height": null,
            "max_width": null,
            "min_height": null,
            "min_width": null,
            "object_fit": null,
            "object_position": null,
            "order": null,
            "overflow": null,
            "overflow_x": null,
            "overflow_y": null,
            "padding": null,
            "right": null,
            "top": null,
            "visibility": null,
            "width": null
          }
        },
        "8262866ba1f249efb564decd5c1ee52c": {
          "model_module": "@jupyter-widgets/controls",
          "model_name": "DescriptionStyleModel",
          "model_module_version": "1.5.0",
          "state": {
            "_model_module": "@jupyter-widgets/controls",
            "_model_module_version": "1.5.0",
            "_model_name": "DescriptionStyleModel",
            "_view_count": null,
            "_view_module": "@jupyter-widgets/base",
            "_view_module_version": "1.2.0",
            "_view_name": "StyleView",
            "description_width": ""
          }
        },
        "498d024bc15c4fa4ac4925b2da0e2a28": {
          "model_module": "@jupyter-widgets/controls",
          "model_name": "HBoxModel",
          "model_module_version": "1.5.0",
          "state": {
            "_dom_classes": [],
            "_model_module": "@jupyter-widgets/controls",
            "_model_module_version": "1.5.0",
            "_model_name": "HBoxModel",
            "_view_count": null,
            "_view_module": "@jupyter-widgets/controls",
            "_view_module_version": "1.5.0",
            "_view_name": "HBoxView",
            "box_style": "",
            "children": [
              "IPY_MODEL_b8f25db57ee0469693921771ea4d67c3",
              "IPY_MODEL_56263e866c7849399205b046406af241",
              "IPY_MODEL_a1ab55b3cf9742e4b7855d949d8977e0"
            ],
            "layout": "IPY_MODEL_377a1adb005e4d2dae3520c9f4426915"
          }
        },
        "b8f25db57ee0469693921771ea4d67c3": {
          "model_module": "@jupyter-widgets/controls",
          "model_name": "HTMLModel",
          "model_module_version": "1.5.0",
          "state": {
            "_dom_classes": [],
            "_model_module": "@jupyter-widgets/controls",
            "_model_module_version": "1.5.0",
            "_model_name": "HTMLModel",
            "_view_count": null,
            "_view_module": "@jupyter-widgets/controls",
            "_view_module_version": "1.5.0",
            "_view_name": "HTMLView",
            "description": "",
            "description_tooltip": null,
            "layout": "IPY_MODEL_a4c8e86753f84620a10bd3702812e72f",
            "placeholder": "​",
            "style": "IPY_MODEL_7ea04fd57f2345398bcd89a13a5a68ca",
            "value": "100%"
          }
        },
        "56263e866c7849399205b046406af241": {
          "model_module": "@jupyter-widgets/controls",
          "model_name": "FloatProgressModel",
          "model_module_version": "1.5.0",
          "state": {
            "_dom_classes": [],
            "_model_module": "@jupyter-widgets/controls",
            "_model_module_version": "1.5.0",
            "_model_name": "FloatProgressModel",
            "_view_count": null,
            "_view_module": "@jupyter-widgets/controls",
            "_view_module_version": "1.5.0",
            "_view_name": "ProgressView",
            "bar_style": "success",
            "description": "",
            "description_tooltip": null,
            "layout": "IPY_MODEL_6cbbce20f52047a79d5a4b6f717c3f07",
            "max": 66,
            "min": 0,
            "orientation": "horizontal",
            "style": "IPY_MODEL_b58e2ce7b8f24bc7861c8fb9eb5ce976",
            "value": 66
          }
        },
        "a1ab55b3cf9742e4b7855d949d8977e0": {
          "model_module": "@jupyter-widgets/controls",
          "model_name": "HTMLModel",
          "model_module_version": "1.5.0",
          "state": {
            "_dom_classes": [],
            "_model_module": "@jupyter-widgets/controls",
            "_model_module_version": "1.5.0",
            "_model_name": "HTMLModel",
            "_view_count": null,
            "_view_module": "@jupyter-widgets/controls",
            "_view_module_version": "1.5.0",
            "_view_name": "HTMLView",
            "description": "",
            "description_tooltip": null,
            "layout": "IPY_MODEL_73d3556f6fa54e5f8a69f9db7ad6da95",
            "placeholder": "​",
            "style": "IPY_MODEL_1c52e35246ba4ead995b1e58e11e7d2b",
            "value": " 66/66 [00:13&lt;00:00,  5.03it/s]"
          }
        },
        "377a1adb005e4d2dae3520c9f4426915": {
          "model_module": "@jupyter-widgets/base",
          "model_name": "LayoutModel",
          "model_module_version": "1.2.0",
          "state": {
            "_model_module": "@jupyter-widgets/base",
            "_model_module_version": "1.2.0",
            "_model_name": "LayoutModel",
            "_view_count": null,
            "_view_module": "@jupyter-widgets/base",
            "_view_module_version": "1.2.0",
            "_view_name": "LayoutView",
            "align_content": null,
            "align_items": null,
            "align_self": null,
            "border": null,
            "bottom": null,
            "display": null,
            "flex": null,
            "flex_flow": null,
            "grid_area": null,
            "grid_auto_columns": null,
            "grid_auto_flow": null,
            "grid_auto_rows": null,
            "grid_column": null,
            "grid_gap": null,
            "grid_row": null,
            "grid_template_areas": null,
            "grid_template_columns": null,
            "grid_template_rows": null,
            "height": null,
            "justify_content": null,
            "justify_items": null,
            "left": null,
            "margin": null,
            "max_height": null,
            "max_width": null,
            "min_height": null,
            "min_width": null,
            "object_fit": null,
            "object_position": null,
            "order": null,
            "overflow": null,
            "overflow_x": null,
            "overflow_y": null,
            "padding": null,
            "right": null,
            "top": null,
            "visibility": null,
            "width": null
          }
        },
        "a4c8e86753f84620a10bd3702812e72f": {
          "model_module": "@jupyter-widgets/base",
          "model_name": "LayoutModel",
          "model_module_version": "1.2.0",
          "state": {
            "_model_module": "@jupyter-widgets/base",
            "_model_module_version": "1.2.0",
            "_model_name": "LayoutModel",
            "_view_count": null,
            "_view_module": "@jupyter-widgets/base",
            "_view_module_version": "1.2.0",
            "_view_name": "LayoutView",
            "align_content": null,
            "align_items": null,
            "align_self": null,
            "border": null,
            "bottom": null,
            "display": null,
            "flex": null,
            "flex_flow": null,
            "grid_area": null,
            "grid_auto_columns": null,
            "grid_auto_flow": null,
            "grid_auto_rows": null,
            "grid_column": null,
            "grid_gap": null,
            "grid_row": null,
            "grid_template_areas": null,
            "grid_template_columns": null,
            "grid_template_rows": null,
            "height": null,
            "justify_content": null,
            "justify_items": null,
            "left": null,
            "margin": null,
            "max_height": null,
            "max_width": null,
            "min_height": null,
            "min_width": null,
            "object_fit": null,
            "object_position": null,
            "order": null,
            "overflow": null,
            "overflow_x": null,
            "overflow_y": null,
            "padding": null,
            "right": null,
            "top": null,
            "visibility": null,
            "width": null
          }
        },
        "7ea04fd57f2345398bcd89a13a5a68ca": {
          "model_module": "@jupyter-widgets/controls",
          "model_name": "DescriptionStyleModel",
          "model_module_version": "1.5.0",
          "state": {
            "_model_module": "@jupyter-widgets/controls",
            "_model_module_version": "1.5.0",
            "_model_name": "DescriptionStyleModel",
            "_view_count": null,
            "_view_module": "@jupyter-widgets/base",
            "_view_module_version": "1.2.0",
            "_view_name": "StyleView",
            "description_width": ""
          }
        },
        "6cbbce20f52047a79d5a4b6f717c3f07": {
          "model_module": "@jupyter-widgets/base",
          "model_name": "LayoutModel",
          "model_module_version": "1.2.0",
          "state": {
            "_model_module": "@jupyter-widgets/base",
            "_model_module_version": "1.2.0",
            "_model_name": "LayoutModel",
            "_view_count": null,
            "_view_module": "@jupyter-widgets/base",
            "_view_module_version": "1.2.0",
            "_view_name": "LayoutView",
            "align_content": null,
            "align_items": null,
            "align_self": null,
            "border": null,
            "bottom": null,
            "display": null,
            "flex": null,
            "flex_flow": null,
            "grid_area": null,
            "grid_auto_columns": null,
            "grid_auto_flow": null,
            "grid_auto_rows": null,
            "grid_column": null,
            "grid_gap": null,
            "grid_row": null,
            "grid_template_areas": null,
            "grid_template_columns": null,
            "grid_template_rows": null,
            "height": null,
            "justify_content": null,
            "justify_items": null,
            "left": null,
            "margin": null,
            "max_height": null,
            "max_width": null,
            "min_height": null,
            "min_width": null,
            "object_fit": null,
            "object_position": null,
            "order": null,
            "overflow": null,
            "overflow_x": null,
            "overflow_y": null,
            "padding": null,
            "right": null,
            "top": null,
            "visibility": null,
            "width": null
          }
        },
        "b58e2ce7b8f24bc7861c8fb9eb5ce976": {
          "model_module": "@jupyter-widgets/controls",
          "model_name": "ProgressStyleModel",
          "model_module_version": "1.5.0",
          "state": {
            "_model_module": "@jupyter-widgets/controls",
            "_model_module_version": "1.5.0",
            "_model_name": "ProgressStyleModel",
            "_view_count": null,
            "_view_module": "@jupyter-widgets/base",
            "_view_module_version": "1.2.0",
            "_view_name": "StyleView",
            "bar_color": null,
            "description_width": ""
          }
        },
        "73d3556f6fa54e5f8a69f9db7ad6da95": {
          "model_module": "@jupyter-widgets/base",
          "model_name": "LayoutModel",
          "model_module_version": "1.2.0",
          "state": {
            "_model_module": "@jupyter-widgets/base",
            "_model_module_version": "1.2.0",
            "_model_name": "LayoutModel",
            "_view_count": null,
            "_view_module": "@jupyter-widgets/base",
            "_view_module_version": "1.2.0",
            "_view_name": "LayoutView",
            "align_content": null,
            "align_items": null,
            "align_self": null,
            "border": null,
            "bottom": null,
            "display": null,
            "flex": null,
            "flex_flow": null,
            "grid_area": null,
            "grid_auto_columns": null,
            "grid_auto_flow": null,
            "grid_auto_rows": null,
            "grid_column": null,
            "grid_gap": null,
            "grid_row": null,
            "grid_template_areas": null,
            "grid_template_columns": null,
            "grid_template_rows": null,
            "height": null,
            "justify_content": null,
            "justify_items": null,
            "left": null,
            "margin": null,
            "max_height": null,
            "max_width": null,
            "min_height": null,
            "min_width": null,
            "object_fit": null,
            "object_position": null,
            "order": null,
            "overflow": null,
            "overflow_x": null,
            "overflow_y": null,
            "padding": null,
            "right": null,
            "top": null,
            "visibility": null,
            "width": null
          }
        },
        "1c52e35246ba4ead995b1e58e11e7d2b": {
          "model_module": "@jupyter-widgets/controls",
          "model_name": "DescriptionStyleModel",
          "model_module_version": "1.5.0",
          "state": {
            "_model_module": "@jupyter-widgets/controls",
            "_model_module_version": "1.5.0",
            "_model_name": "DescriptionStyleModel",
            "_view_count": null,
            "_view_module": "@jupyter-widgets/base",
            "_view_module_version": "1.2.0",
            "_view_name": "StyleView",
            "description_width": ""
          }
        },
        "e964aa9756984d44ba860565d1b8b2db": {
          "model_module": "@jupyter-widgets/controls",
          "model_name": "HBoxModel",
          "model_module_version": "1.5.0",
          "state": {
            "_dom_classes": [],
            "_model_module": "@jupyter-widgets/controls",
            "_model_module_version": "1.5.0",
            "_model_name": "HBoxModel",
            "_view_count": null,
            "_view_module": "@jupyter-widgets/controls",
            "_view_module_version": "1.5.0",
            "_view_name": "HBoxView",
            "box_style": "",
            "children": [
              "IPY_MODEL_ec1ffbc917064037aba2bf72838c8f74",
              "IPY_MODEL_7ce6fc02ad6d4efaa1b7a25114d5883d",
              "IPY_MODEL_08d85d9179bd45258a032be790d0d757"
            ],
            "layout": "IPY_MODEL_fc6536f2ea1842cb8a522ecdf66a0619"
          }
        },
        "ec1ffbc917064037aba2bf72838c8f74": {
          "model_module": "@jupyter-widgets/controls",
          "model_name": "HTMLModel",
          "model_module_version": "1.5.0",
          "state": {
            "_dom_classes": [],
            "_model_module": "@jupyter-widgets/controls",
            "_model_module_version": "1.5.0",
            "_model_name": "HTMLModel",
            "_view_count": null,
            "_view_module": "@jupyter-widgets/controls",
            "_view_module_version": "1.5.0",
            "_view_name": "HTMLView",
            "description": "",
            "description_tooltip": null,
            "layout": "IPY_MODEL_57ae1c4428f94d97b6b024c9800bb40f",
            "placeholder": "​",
            "style": "IPY_MODEL_dabe2027bc9c4194b14b9970cd9c521e",
            "value": "100%"
          }
        },
        "7ce6fc02ad6d4efaa1b7a25114d5883d": {
          "model_module": "@jupyter-widgets/controls",
          "model_name": "FloatProgressModel",
          "model_module_version": "1.5.0",
          "state": {
            "_dom_classes": [],
            "_model_module": "@jupyter-widgets/controls",
            "_model_module_version": "1.5.0",
            "_model_name": "FloatProgressModel",
            "_view_count": null,
            "_view_module": "@jupyter-widgets/controls",
            "_view_module_version": "1.5.0",
            "_view_name": "ProgressView",
            "bar_style": "success",
            "description": "",
            "description_tooltip": null,
            "layout": "IPY_MODEL_139e808161d64e489ec0a19bf8a321df",
            "max": 37,
            "min": 0,
            "orientation": "horizontal",
            "style": "IPY_MODEL_161af41b45374a58b909c25eb7b40cb9",
            "value": 37
          }
        },
        "08d85d9179bd45258a032be790d0d757": {
          "model_module": "@jupyter-widgets/controls",
          "model_name": "HTMLModel",
          "model_module_version": "1.5.0",
          "state": {
            "_dom_classes": [],
            "_model_module": "@jupyter-widgets/controls",
            "_model_module_version": "1.5.0",
            "_model_name": "HTMLModel",
            "_view_count": null,
            "_view_module": "@jupyter-widgets/controls",
            "_view_module_version": "1.5.0",
            "_view_name": "HTMLView",
            "description": "",
            "description_tooltip": null,
            "layout": "IPY_MODEL_bb6debd3b16345068e8a9f373ef48465",
            "placeholder": "​",
            "style": "IPY_MODEL_849c7a42183c4d14b9358d8ae30caa54",
            "value": " 37/37 [00:08&lt;00:00,  3.63it/s]"
          }
        },
        "fc6536f2ea1842cb8a522ecdf66a0619": {
          "model_module": "@jupyter-widgets/base",
          "model_name": "LayoutModel",
          "model_module_version": "1.2.0",
          "state": {
            "_model_module": "@jupyter-widgets/base",
            "_model_module_version": "1.2.0",
            "_model_name": "LayoutModel",
            "_view_count": null,
            "_view_module": "@jupyter-widgets/base",
            "_view_module_version": "1.2.0",
            "_view_name": "LayoutView",
            "align_content": null,
            "align_items": null,
            "align_self": null,
            "border": null,
            "bottom": null,
            "display": null,
            "flex": null,
            "flex_flow": null,
            "grid_area": null,
            "grid_auto_columns": null,
            "grid_auto_flow": null,
            "grid_auto_rows": null,
            "grid_column": null,
            "grid_gap": null,
            "grid_row": null,
            "grid_template_areas": null,
            "grid_template_columns": null,
            "grid_template_rows": null,
            "height": null,
            "justify_content": null,
            "justify_items": null,
            "left": null,
            "margin": null,
            "max_height": null,
            "max_width": null,
            "min_height": null,
            "min_width": null,
            "object_fit": null,
            "object_position": null,
            "order": null,
            "overflow": null,
            "overflow_x": null,
            "overflow_y": null,
            "padding": null,
            "right": null,
            "top": null,
            "visibility": null,
            "width": null
          }
        },
        "57ae1c4428f94d97b6b024c9800bb40f": {
          "model_module": "@jupyter-widgets/base",
          "model_name": "LayoutModel",
          "model_module_version": "1.2.0",
          "state": {
            "_model_module": "@jupyter-widgets/base",
            "_model_module_version": "1.2.0",
            "_model_name": "LayoutModel",
            "_view_count": null,
            "_view_module": "@jupyter-widgets/base",
            "_view_module_version": "1.2.0",
            "_view_name": "LayoutView",
            "align_content": null,
            "align_items": null,
            "align_self": null,
            "border": null,
            "bottom": null,
            "display": null,
            "flex": null,
            "flex_flow": null,
            "grid_area": null,
            "grid_auto_columns": null,
            "grid_auto_flow": null,
            "grid_auto_rows": null,
            "grid_column": null,
            "grid_gap": null,
            "grid_row": null,
            "grid_template_areas": null,
            "grid_template_columns": null,
            "grid_template_rows": null,
            "height": null,
            "justify_content": null,
            "justify_items": null,
            "left": null,
            "margin": null,
            "max_height": null,
            "max_width": null,
            "min_height": null,
            "min_width": null,
            "object_fit": null,
            "object_position": null,
            "order": null,
            "overflow": null,
            "overflow_x": null,
            "overflow_y": null,
            "padding": null,
            "right": null,
            "top": null,
            "visibility": null,
            "width": null
          }
        },
        "dabe2027bc9c4194b14b9970cd9c521e": {
          "model_module": "@jupyter-widgets/controls",
          "model_name": "DescriptionStyleModel",
          "model_module_version": "1.5.0",
          "state": {
            "_model_module": "@jupyter-widgets/controls",
            "_model_module_version": "1.5.0",
            "_model_name": "DescriptionStyleModel",
            "_view_count": null,
            "_view_module": "@jupyter-widgets/base",
            "_view_module_version": "1.2.0",
            "_view_name": "StyleView",
            "description_width": ""
          }
        },
        "139e808161d64e489ec0a19bf8a321df": {
          "model_module": "@jupyter-widgets/base",
          "model_name": "LayoutModel",
          "model_module_version": "1.2.0",
          "state": {
            "_model_module": "@jupyter-widgets/base",
            "_model_module_version": "1.2.0",
            "_model_name": "LayoutModel",
            "_view_count": null,
            "_view_module": "@jupyter-widgets/base",
            "_view_module_version": "1.2.0",
            "_view_name": "LayoutView",
            "align_content": null,
            "align_items": null,
            "align_self": null,
            "border": null,
            "bottom": null,
            "display": null,
            "flex": null,
            "flex_flow": null,
            "grid_area": null,
            "grid_auto_columns": null,
            "grid_auto_flow": null,
            "grid_auto_rows": null,
            "grid_column": null,
            "grid_gap": null,
            "grid_row": null,
            "grid_template_areas": null,
            "grid_template_columns": null,
            "grid_template_rows": null,
            "height": null,
            "justify_content": null,
            "justify_items": null,
            "left": null,
            "margin": null,
            "max_height": null,
            "max_width": null,
            "min_height": null,
            "min_width": null,
            "object_fit": null,
            "object_position": null,
            "order": null,
            "overflow": null,
            "overflow_x": null,
            "overflow_y": null,
            "padding": null,
            "right": null,
            "top": null,
            "visibility": null,
            "width": null
          }
        },
        "161af41b45374a58b909c25eb7b40cb9": {
          "model_module": "@jupyter-widgets/controls",
          "model_name": "ProgressStyleModel",
          "model_module_version": "1.5.0",
          "state": {
            "_model_module": "@jupyter-widgets/controls",
            "_model_module_version": "1.5.0",
            "_model_name": "ProgressStyleModel",
            "_view_count": null,
            "_view_module": "@jupyter-widgets/base",
            "_view_module_version": "1.2.0",
            "_view_name": "StyleView",
            "bar_color": null,
            "description_width": ""
          }
        },
        "bb6debd3b16345068e8a9f373ef48465": {
          "model_module": "@jupyter-widgets/base",
          "model_name": "LayoutModel",
          "model_module_version": "1.2.0",
          "state": {
            "_model_module": "@jupyter-widgets/base",
            "_model_module_version": "1.2.0",
            "_model_name": "LayoutModel",
            "_view_count": null,
            "_view_module": "@jupyter-widgets/base",
            "_view_module_version": "1.2.0",
            "_view_name": "LayoutView",
            "align_content": null,
            "align_items": null,
            "align_self": null,
            "border": null,
            "bottom": null,
            "display": null,
            "flex": null,
            "flex_flow": null,
            "grid_area": null,
            "grid_auto_columns": null,
            "grid_auto_flow": null,
            "grid_auto_rows": null,
            "grid_column": null,
            "grid_gap": null,
            "grid_row": null,
            "grid_template_areas": null,
            "grid_template_columns": null,
            "grid_template_rows": null,
            "height": null,
            "justify_content": null,
            "justify_items": null,
            "left": null,
            "margin": null,
            "max_height": null,
            "max_width": null,
            "min_height": null,
            "min_width": null,
            "object_fit": null,
            "object_position": null,
            "order": null,
            "overflow": null,
            "overflow_x": null,
            "overflow_y": null,
            "padding": null,
            "right": null,
            "top": null,
            "visibility": null,
            "width": null
          }
        },
        "849c7a42183c4d14b9358d8ae30caa54": {
          "model_module": "@jupyter-widgets/controls",
          "model_name": "DescriptionStyleModel",
          "model_module_version": "1.5.0",
          "state": {
            "_model_module": "@jupyter-widgets/controls",
            "_model_module_version": "1.5.0",
            "_model_name": "DescriptionStyleModel",
            "_view_count": null,
            "_view_module": "@jupyter-widgets/base",
            "_view_module_version": "1.2.0",
            "_view_name": "StyleView",
            "description_width": ""
          }
        }
      }
    }
  },
  "nbformat": 4,
  "nbformat_minor": 5
}